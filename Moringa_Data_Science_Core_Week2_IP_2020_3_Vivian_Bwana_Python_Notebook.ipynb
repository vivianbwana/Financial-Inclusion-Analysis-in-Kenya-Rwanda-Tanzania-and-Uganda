{
  "nbformat": 4,
  "nbformat_minor": 0,
  "metadata": {
    "colab": {
      "name": "Moringa_Data_Science_Core_Week2_IP_2020_3_Vivian_Bwana_Python_Notebook.ipynb",
      "provenance": [],
      "toc_visible": true,
      "collapsed_sections": [
        "snqbe4Erq8I1",
        "ijTqXlkA5BK-",
        "UYTmCOEFGxxx",
        "WIOi8BnmHnXc"
      ]
    },
    "kernelspec": {
      "name": "python3",
      "display_name": "Python 3"
    },
    "language_info": {
      "name": "python"
    }
  },
  "cells": [
    {
      "cell_type": "markdown",
      "source": [
        "#Financial Inclusion Analysis in Kenya, Rwanda, Tanzania and Uganda"
      ],
      "metadata": {
        "id": "vls-LiPRmxEF"
      }
    },
    {
      "cell_type": "markdown",
      "source": [
        "##1. Defining the Question \n",
        "##a). To define the Question, we need to: \n",
        "### To predict which individuals are most likely to have or use a bank accounts in Kenya, Uganda and Tanzania.\n",
        "\n",
        "\n",
        "##b) Defining the Metric for Success\n",
        "###To identify the individuals who are most likely to have bank accounts.in order to do this, we need to find the correlationship between such individuals and  other demographical factors like the Type of Location, Cell Phone Access, Household Size, Respondent Age, gender of respondent, The relationship with head, Marital Status, Level of Educuation and Type of Job in the three countries.\n",
        "\n",
        "##c) Understanding the context\n",
        "###Financial Inclusion remains one of the main obstacles to economic and human development in Africa. For example, across Kenya, Rwanda, Tanzania, and Uganda only 9.1 million adults (or 13.9% of the adult population) have access to or use a commercial bank account.\n",
        "###Traditionally, access to bank accounts has been regarded as an indicator of financial inclusion. Despite the proliferation of mobile money in Africa and the growth of innovative fintech solutions, banks still play a pivotal role in facilitating access to financial services. Access to bank accounts enables households to save and facilitate payments while also helping businesses build up their credit-worthiness and improve their access to other financial services. Therefore, access to bank accounts is an essential contributor to long-term economic growth.\n",
        "###The research problem is to figure out how we can predict which individuals are most likely to have or use a bank account. Your solution will help provide an indication of the state of financial inclusion in Kenya, Rwanda, Tanzania, and Uganda, while providing insights into some of the key demographic factors like Job Type that might drive individuals’ financial outcomes\n",
        "\n",
        "\n",
        "##d) Recording the Experimental Design\n",
        "###1)Importing libraries\n",
        "###2)Dataset loading\n",
        "###3)Dataset previewing\n",
        "###4)Dataset verification\n",
        "###5)Dataset cleaning\n",
        "###6)Exploatory Data Analysis\n",
        "###7)Univariate analysis of the data\n",
        "###8)Bivariate analysis of data\n",
        "###9)Multivariate analysis of the data\n",
        "###10)Implementing the solution\n",
        "###11)Challenging the solution\n",
        "###12)Follow-up questions\n",
        "\n",
        "##e) Data Relevance\n",
        "###The dataset used for this analysis was from a reliable source and has the column \"Has a bank account\" which is targeted for primary use in this study."
      ],
      "metadata": {
        "id": "2w0EdhrfKja5"
      }
    },
    {
      "cell_type": "markdown",
      "source": [
        "##2. Reading the Data"
      ],
      "metadata": {
        "id": "zDunoZMKoy6K"
      }
    },
    {
      "cell_type": "markdown",
      "source": [
        "##Importing our libraries"
      ],
      "metadata": {
        "id": "5cv0paCanXe1"
      }
    },
    {
      "cell_type": "code",
      "execution_count": null,
      "metadata": {
        "id": "37KXZaL0JMn-"
      },
      "outputs": [],
      "source": [
        "# Importing Numpy\n",
        "import numpy as np\n",
        "\n",
        "# Importing Pandas\n",
        "import pandas as pd\n",
        "\n",
        "# Importing Matplotlib\n",
        "import matplotlib.pyplot as plt\n",
        "\n",
        "# Importing Seaborn\n",
        "import seaborn as sns"
      ]
    },
    {
      "cell_type": "markdown",
      "source": [
        "##Loading the dataset"
      ],
      "metadata": {
        "id": "ugdtChM5nfYm"
      }
    },
    {
      "cell_type": "code",
      "source": [
        "# we load the dataset to be used for this analysis\n",
        "\n",
        "url = \"http://bit.ly/FinancialDataset\"\n",
        "Finance = pd.read_csv(url)\n"
      ],
      "metadata": {
        "id": "Wg_hXCNPR_aA"
      },
      "execution_count": null,
      "outputs": []
    },
    {
      "cell_type": "markdown",
      "source": [
        "##3. Checking the data"
      ],
      "metadata": {
        "id": "hEQ7l-W0pnKk"
      }
    },
    {
      "cell_type": "markdown",
      "source": [
        "##Checking the number of records in the dataset"
      ],
      "metadata": {
        "id": "qfOEP8AQnqn8"
      }
    },
    {
      "cell_type": "code",
      "source": [
        "#checking the shape\n",
        "\n",
        "Finance.shape\n",
        "\n",
        "# the dataset has 23,524 rows and 13 columns"
      ],
      "metadata": {
        "colab": {
          "base_uri": "https://localhost:8080/"
        },
        "id": "aE2wJ3yDR_I4",
        "outputId": "481797f1-dce0-404f-be63-826ad250649e"
      },
      "execution_count": null,
      "outputs": [
        {
          "output_type": "execute_result",
          "data": {
            "text/plain": [
              "(23524, 13)"
            ]
          },
          "metadata": {},
          "execution_count": 26
        }
      ]
    },
    {
      "cell_type": "markdown",
      "source": [
        "## Previewing the dataset"
      ],
      "metadata": {
        "id": "o3OTU-v9n4si"
      }
    },
    {
      "cell_type": "code",
      "source": [
        "#checking the top of the Finance\n",
        "\n",
        "Finance.head()"
      ],
      "metadata": {
        "colab": {
          "base_uri": "https://localhost:8080/",
          "height": 426
        },
        "id": "u5_TQK6djUk2",
        "outputId": "553c2815-ed15-4651-cb3d-7b3bc8d73000"
      },
      "execution_count": null,
      "outputs": [
        {
          "output_type": "execute_result",
          "data": {
            "text/plain": [
              "  country  year    uniqueid Has a Bank account Type of Location  \\\n",
              "0   Kenya  2018  uniqueid_1                Yes            Rural   \n",
              "1   Kenya  2018  uniqueid_2                 No            Rural   \n",
              "2   Kenya  2018  uniqueid_3                Yes            Urban   \n",
              "3   Kenya  2018  uniqueid_4                 No            Rural   \n",
              "4   Kenya  2018  uniqueid_5                 No            Urban   \n",
              "\n",
              "  Cell Phone Access  household_size  Respondent Age gender_of_respondent  \\\n",
              "0               Yes             3.0            24.0               Female   \n",
              "1                No             5.0            70.0               Female   \n",
              "2               Yes             5.0            26.0                 Male   \n",
              "3               Yes             5.0            34.0               Female   \n",
              "4                No             8.0            26.0                 Male   \n",
              "\n",
              "  The relathip with head           marital_status  \\\n",
              "0                 Spouse  Married/Living together   \n",
              "1      Head of Household                  Widowed   \n",
              "2         Other relative     Single/Never Married   \n",
              "3      Head of Household  Married/Living together   \n",
              "4                  Child     Single/Never Married   \n",
              "\n",
              "               Level of Educuation                Type of Job  \n",
              "0              Secondary education              Self employed  \n",
              "1              No formal education       Government Dependent  \n",
              "2  Vocational/Specialised training              Self employed  \n",
              "3                Primary education  Formally employed Private  \n",
              "4                Primary education        Informally employed  "
            ],
            "text/html": [
              "\n",
              "  <div id=\"df-ea617e41-ec69-4e2f-9d00-399a8c376866\">\n",
              "    <div class=\"colab-df-container\">\n",
              "      <div>\n",
              "<style scoped>\n",
              "    .dataframe tbody tr th:only-of-type {\n",
              "        vertical-align: middle;\n",
              "    }\n",
              "\n",
              "    .dataframe tbody tr th {\n",
              "        vertical-align: top;\n",
              "    }\n",
              "\n",
              "    .dataframe thead th {\n",
              "        text-align: right;\n",
              "    }\n",
              "</style>\n",
              "<table border=\"1\" class=\"dataframe\">\n",
              "  <thead>\n",
              "    <tr style=\"text-align: right;\">\n",
              "      <th></th>\n",
              "      <th>country</th>\n",
              "      <th>year</th>\n",
              "      <th>uniqueid</th>\n",
              "      <th>Has a Bank account</th>\n",
              "      <th>Type of Location</th>\n",
              "      <th>Cell Phone Access</th>\n",
              "      <th>household_size</th>\n",
              "      <th>Respondent Age</th>\n",
              "      <th>gender_of_respondent</th>\n",
              "      <th>The relathip with head</th>\n",
              "      <th>marital_status</th>\n",
              "      <th>Level of Educuation</th>\n",
              "      <th>Type of Job</th>\n",
              "    </tr>\n",
              "  </thead>\n",
              "  <tbody>\n",
              "    <tr>\n",
              "      <th>0</th>\n",
              "      <td>Kenya</td>\n",
              "      <td>2018</td>\n",
              "      <td>uniqueid_1</td>\n",
              "      <td>Yes</td>\n",
              "      <td>Rural</td>\n",
              "      <td>Yes</td>\n",
              "      <td>3.0</td>\n",
              "      <td>24.0</td>\n",
              "      <td>Female</td>\n",
              "      <td>Spouse</td>\n",
              "      <td>Married/Living together</td>\n",
              "      <td>Secondary education</td>\n",
              "      <td>Self employed</td>\n",
              "    </tr>\n",
              "    <tr>\n",
              "      <th>1</th>\n",
              "      <td>Kenya</td>\n",
              "      <td>2018</td>\n",
              "      <td>uniqueid_2</td>\n",
              "      <td>No</td>\n",
              "      <td>Rural</td>\n",
              "      <td>No</td>\n",
              "      <td>5.0</td>\n",
              "      <td>70.0</td>\n",
              "      <td>Female</td>\n",
              "      <td>Head of Household</td>\n",
              "      <td>Widowed</td>\n",
              "      <td>No formal education</td>\n",
              "      <td>Government Dependent</td>\n",
              "    </tr>\n",
              "    <tr>\n",
              "      <th>2</th>\n",
              "      <td>Kenya</td>\n",
              "      <td>2018</td>\n",
              "      <td>uniqueid_3</td>\n",
              "      <td>Yes</td>\n",
              "      <td>Urban</td>\n",
              "      <td>Yes</td>\n",
              "      <td>5.0</td>\n",
              "      <td>26.0</td>\n",
              "      <td>Male</td>\n",
              "      <td>Other relative</td>\n",
              "      <td>Single/Never Married</td>\n",
              "      <td>Vocational/Specialised training</td>\n",
              "      <td>Self employed</td>\n",
              "    </tr>\n",
              "    <tr>\n",
              "      <th>3</th>\n",
              "      <td>Kenya</td>\n",
              "      <td>2018</td>\n",
              "      <td>uniqueid_4</td>\n",
              "      <td>No</td>\n",
              "      <td>Rural</td>\n",
              "      <td>Yes</td>\n",
              "      <td>5.0</td>\n",
              "      <td>34.0</td>\n",
              "      <td>Female</td>\n",
              "      <td>Head of Household</td>\n",
              "      <td>Married/Living together</td>\n",
              "      <td>Primary education</td>\n",
              "      <td>Formally employed Private</td>\n",
              "    </tr>\n",
              "    <tr>\n",
              "      <th>4</th>\n",
              "      <td>Kenya</td>\n",
              "      <td>2018</td>\n",
              "      <td>uniqueid_5</td>\n",
              "      <td>No</td>\n",
              "      <td>Urban</td>\n",
              "      <td>No</td>\n",
              "      <td>8.0</td>\n",
              "      <td>26.0</td>\n",
              "      <td>Male</td>\n",
              "      <td>Child</td>\n",
              "      <td>Single/Never Married</td>\n",
              "      <td>Primary education</td>\n",
              "      <td>Informally employed</td>\n",
              "    </tr>\n",
              "  </tbody>\n",
              "</table>\n",
              "</div>\n",
              "      <button class=\"colab-df-convert\" onclick=\"convertToInteractive('df-ea617e41-ec69-4e2f-9d00-399a8c376866')\"\n",
              "              title=\"Convert this dataframe to an interactive table.\"\n",
              "              style=\"display:none;\">\n",
              "        \n",
              "  <svg xmlns=\"http://www.w3.org/2000/svg\" height=\"24px\"viewBox=\"0 0 24 24\"\n",
              "       width=\"24px\">\n",
              "    <path d=\"M0 0h24v24H0V0z\" fill=\"none\"/>\n",
              "    <path d=\"M18.56 5.44l.94 2.06.94-2.06 2.06-.94-2.06-.94-.94-2.06-.94 2.06-2.06.94zm-11 1L8.5 8.5l.94-2.06 2.06-.94-2.06-.94L8.5 2.5l-.94 2.06-2.06.94zm10 10l.94 2.06.94-2.06 2.06-.94-2.06-.94-.94-2.06-.94 2.06-2.06.94z\"/><path d=\"M17.41 7.96l-1.37-1.37c-.4-.4-.92-.59-1.43-.59-.52 0-1.04.2-1.43.59L10.3 9.45l-7.72 7.72c-.78.78-.78 2.05 0 2.83L4 21.41c.39.39.9.59 1.41.59.51 0 1.02-.2 1.41-.59l7.78-7.78 2.81-2.81c.8-.78.8-2.07 0-2.86zM5.41 20L4 18.59l7.72-7.72 1.47 1.35L5.41 20z\"/>\n",
              "  </svg>\n",
              "      </button>\n",
              "      \n",
              "  <style>\n",
              "    .colab-df-container {\n",
              "      display:flex;\n",
              "      flex-wrap:wrap;\n",
              "      gap: 12px;\n",
              "    }\n",
              "\n",
              "    .colab-df-convert {\n",
              "      background-color: #E8F0FE;\n",
              "      border: none;\n",
              "      border-radius: 50%;\n",
              "      cursor: pointer;\n",
              "      display: none;\n",
              "      fill: #1967D2;\n",
              "      height: 32px;\n",
              "      padding: 0 0 0 0;\n",
              "      width: 32px;\n",
              "    }\n",
              "\n",
              "    .colab-df-convert:hover {\n",
              "      background-color: #E2EBFA;\n",
              "      box-shadow: 0px 1px 2px rgba(60, 64, 67, 0.3), 0px 1px 3px 1px rgba(60, 64, 67, 0.15);\n",
              "      fill: #174EA6;\n",
              "    }\n",
              "\n",
              "    [theme=dark] .colab-df-convert {\n",
              "      background-color: #3B4455;\n",
              "      fill: #D2E3FC;\n",
              "    }\n",
              "\n",
              "    [theme=dark] .colab-df-convert:hover {\n",
              "      background-color: #434B5C;\n",
              "      box-shadow: 0px 1px 3px 1px rgba(0, 0, 0, 0.15);\n",
              "      filter: drop-shadow(0px 1px 2px rgba(0, 0, 0, 0.3));\n",
              "      fill: #FFFFFF;\n",
              "    }\n",
              "  </style>\n",
              "\n",
              "      <script>\n",
              "        const buttonEl =\n",
              "          document.querySelector('#df-ea617e41-ec69-4e2f-9d00-399a8c376866 button.colab-df-convert');\n",
              "        buttonEl.style.display =\n",
              "          google.colab.kernel.accessAllowed ? 'block' : 'none';\n",
              "\n",
              "        async function convertToInteractive(key) {\n",
              "          const element = document.querySelector('#df-ea617e41-ec69-4e2f-9d00-399a8c376866');\n",
              "          const dataTable =\n",
              "            await google.colab.kernel.invokeFunction('convertToInteractive',\n",
              "                                                     [key], {});\n",
              "          if (!dataTable) return;\n",
              "\n",
              "          const docLinkHtml = 'Like what you see? Visit the ' +\n",
              "            '<a target=\"_blank\" href=https://colab.research.google.com/notebooks/data_table.ipynb>data table notebook</a>'\n",
              "            + ' to learn more about interactive tables.';\n",
              "          element.innerHTML = '';\n",
              "          dataTable['output_type'] = 'display_data';\n",
              "          await google.colab.output.renderOutput(dataTable, element);\n",
              "          const docLink = document.createElement('div');\n",
              "          docLink.innerHTML = docLinkHtml;\n",
              "          element.appendChild(docLink);\n",
              "        }\n",
              "      </script>\n",
              "    </div>\n",
              "  </div>\n",
              "  "
            ]
          },
          "metadata": {},
          "execution_count": 27
        }
      ]
    },
    {
      "cell_type": "code",
      "source": [
        "#checking the top of the Finance\n",
        "\n",
        "Finance.tail()"
      ],
      "metadata": {
        "colab": {
          "base_uri": "https://localhost:8080/",
          "height": 409
        },
        "id": "2Mw5v7YZjlfM",
        "outputId": "896aaf6b-5641-4b4f-ad7b-59558e9b5f89"
      },
      "execution_count": null,
      "outputs": [
        {
          "output_type": "execute_result",
          "data": {
            "text/plain": [
              "      country  year       uniqueid Has a Bank account Type of Location  \\\n",
              "23519  Uganda  2018  uniqueid_2113                 No            Rural   \n",
              "23520  Uganda  2018  uniqueid_2114                 No            Rural   \n",
              "23521  Uganda  2018  uniqueid_2115                 No            Rural   \n",
              "23522  Uganda  2018  uniqueid_2116                 No            Urban   \n",
              "23523  Uganda  2018  uniqueid_2117                 No            Rural   \n",
              "\n",
              "      Cell Phone Access  household_size  Respondent Age gender_of_respondent  \\\n",
              "23519               Yes             4.0            48.0               Female   \n",
              "23520               Yes             2.0            27.0               Female   \n",
              "23521               Yes             5.0            27.0               Female   \n",
              "23522               Yes             7.0            30.0               Female   \n",
              "23523               Yes            10.0            20.0                 Male   \n",
              "\n",
              "      The relathip with head        marital_status  Level of Educuation  \\\n",
              "23519      Head of Household    Divorced/Seperated  No formal education   \n",
              "23520      Head of Household  Single/Never Married  Secondary education   \n",
              "23521                 Parent               Widowed    Primary education   \n",
              "23522                 Parent    Divorced/Seperated  Secondary education   \n",
              "23523                  Child  Single/Never Married  Secondary education   \n",
              "\n",
              "         Type of Job  \n",
              "23519   Other Income  \n",
              "23520   Other Income  \n",
              "23521   Other Income  \n",
              "23522  Self employed  \n",
              "23523      No Income  "
            ],
            "text/html": [
              "\n",
              "  <div id=\"df-78805996-4b46-408a-b5c7-c3836089fe41\">\n",
              "    <div class=\"colab-df-container\">\n",
              "      <div>\n",
              "<style scoped>\n",
              "    .dataframe tbody tr th:only-of-type {\n",
              "        vertical-align: middle;\n",
              "    }\n",
              "\n",
              "    .dataframe tbody tr th {\n",
              "        vertical-align: top;\n",
              "    }\n",
              "\n",
              "    .dataframe thead th {\n",
              "        text-align: right;\n",
              "    }\n",
              "</style>\n",
              "<table border=\"1\" class=\"dataframe\">\n",
              "  <thead>\n",
              "    <tr style=\"text-align: right;\">\n",
              "      <th></th>\n",
              "      <th>country</th>\n",
              "      <th>year</th>\n",
              "      <th>uniqueid</th>\n",
              "      <th>Has a Bank account</th>\n",
              "      <th>Type of Location</th>\n",
              "      <th>Cell Phone Access</th>\n",
              "      <th>household_size</th>\n",
              "      <th>Respondent Age</th>\n",
              "      <th>gender_of_respondent</th>\n",
              "      <th>The relathip with head</th>\n",
              "      <th>marital_status</th>\n",
              "      <th>Level of Educuation</th>\n",
              "      <th>Type of Job</th>\n",
              "    </tr>\n",
              "  </thead>\n",
              "  <tbody>\n",
              "    <tr>\n",
              "      <th>23519</th>\n",
              "      <td>Uganda</td>\n",
              "      <td>2018</td>\n",
              "      <td>uniqueid_2113</td>\n",
              "      <td>No</td>\n",
              "      <td>Rural</td>\n",
              "      <td>Yes</td>\n",
              "      <td>4.0</td>\n",
              "      <td>48.0</td>\n",
              "      <td>Female</td>\n",
              "      <td>Head of Household</td>\n",
              "      <td>Divorced/Seperated</td>\n",
              "      <td>No formal education</td>\n",
              "      <td>Other Income</td>\n",
              "    </tr>\n",
              "    <tr>\n",
              "      <th>23520</th>\n",
              "      <td>Uganda</td>\n",
              "      <td>2018</td>\n",
              "      <td>uniqueid_2114</td>\n",
              "      <td>No</td>\n",
              "      <td>Rural</td>\n",
              "      <td>Yes</td>\n",
              "      <td>2.0</td>\n",
              "      <td>27.0</td>\n",
              "      <td>Female</td>\n",
              "      <td>Head of Household</td>\n",
              "      <td>Single/Never Married</td>\n",
              "      <td>Secondary education</td>\n",
              "      <td>Other Income</td>\n",
              "    </tr>\n",
              "    <tr>\n",
              "      <th>23521</th>\n",
              "      <td>Uganda</td>\n",
              "      <td>2018</td>\n",
              "      <td>uniqueid_2115</td>\n",
              "      <td>No</td>\n",
              "      <td>Rural</td>\n",
              "      <td>Yes</td>\n",
              "      <td>5.0</td>\n",
              "      <td>27.0</td>\n",
              "      <td>Female</td>\n",
              "      <td>Parent</td>\n",
              "      <td>Widowed</td>\n",
              "      <td>Primary education</td>\n",
              "      <td>Other Income</td>\n",
              "    </tr>\n",
              "    <tr>\n",
              "      <th>23522</th>\n",
              "      <td>Uganda</td>\n",
              "      <td>2018</td>\n",
              "      <td>uniqueid_2116</td>\n",
              "      <td>No</td>\n",
              "      <td>Urban</td>\n",
              "      <td>Yes</td>\n",
              "      <td>7.0</td>\n",
              "      <td>30.0</td>\n",
              "      <td>Female</td>\n",
              "      <td>Parent</td>\n",
              "      <td>Divorced/Seperated</td>\n",
              "      <td>Secondary education</td>\n",
              "      <td>Self employed</td>\n",
              "    </tr>\n",
              "    <tr>\n",
              "      <th>23523</th>\n",
              "      <td>Uganda</td>\n",
              "      <td>2018</td>\n",
              "      <td>uniqueid_2117</td>\n",
              "      <td>No</td>\n",
              "      <td>Rural</td>\n",
              "      <td>Yes</td>\n",
              "      <td>10.0</td>\n",
              "      <td>20.0</td>\n",
              "      <td>Male</td>\n",
              "      <td>Child</td>\n",
              "      <td>Single/Never Married</td>\n",
              "      <td>Secondary education</td>\n",
              "      <td>No Income</td>\n",
              "    </tr>\n",
              "  </tbody>\n",
              "</table>\n",
              "</div>\n",
              "      <button class=\"colab-df-convert\" onclick=\"convertToInteractive('df-78805996-4b46-408a-b5c7-c3836089fe41')\"\n",
              "              title=\"Convert this dataframe to an interactive table.\"\n",
              "              style=\"display:none;\">\n",
              "        \n",
              "  <svg xmlns=\"http://www.w3.org/2000/svg\" height=\"24px\"viewBox=\"0 0 24 24\"\n",
              "       width=\"24px\">\n",
              "    <path d=\"M0 0h24v24H0V0z\" fill=\"none\"/>\n",
              "    <path d=\"M18.56 5.44l.94 2.06.94-2.06 2.06-.94-2.06-.94-.94-2.06-.94 2.06-2.06.94zm-11 1L8.5 8.5l.94-2.06 2.06-.94-2.06-.94L8.5 2.5l-.94 2.06-2.06.94zm10 10l.94 2.06.94-2.06 2.06-.94-2.06-.94-.94-2.06-.94 2.06-2.06.94z\"/><path d=\"M17.41 7.96l-1.37-1.37c-.4-.4-.92-.59-1.43-.59-.52 0-1.04.2-1.43.59L10.3 9.45l-7.72 7.72c-.78.78-.78 2.05 0 2.83L4 21.41c.39.39.9.59 1.41.59.51 0 1.02-.2 1.41-.59l7.78-7.78 2.81-2.81c.8-.78.8-2.07 0-2.86zM5.41 20L4 18.59l7.72-7.72 1.47 1.35L5.41 20z\"/>\n",
              "  </svg>\n",
              "      </button>\n",
              "      \n",
              "  <style>\n",
              "    .colab-df-container {\n",
              "      display:flex;\n",
              "      flex-wrap:wrap;\n",
              "      gap: 12px;\n",
              "    }\n",
              "\n",
              "    .colab-df-convert {\n",
              "      background-color: #E8F0FE;\n",
              "      border: none;\n",
              "      border-radius: 50%;\n",
              "      cursor: pointer;\n",
              "      display: none;\n",
              "      fill: #1967D2;\n",
              "      height: 32px;\n",
              "      padding: 0 0 0 0;\n",
              "      width: 32px;\n",
              "    }\n",
              "\n",
              "    .colab-df-convert:hover {\n",
              "      background-color: #E2EBFA;\n",
              "      box-shadow: 0px 1px 2px rgba(60, 64, 67, 0.3), 0px 1px 3px 1px rgba(60, 64, 67, 0.15);\n",
              "      fill: #174EA6;\n",
              "    }\n",
              "\n",
              "    [theme=dark] .colab-df-convert {\n",
              "      background-color: #3B4455;\n",
              "      fill: #D2E3FC;\n",
              "    }\n",
              "\n",
              "    [theme=dark] .colab-df-convert:hover {\n",
              "      background-color: #434B5C;\n",
              "      box-shadow: 0px 1px 3px 1px rgba(0, 0, 0, 0.15);\n",
              "      filter: drop-shadow(0px 1px 2px rgba(0, 0, 0, 0.3));\n",
              "      fill: #FFFFFF;\n",
              "    }\n",
              "  </style>\n",
              "\n",
              "      <script>\n",
              "        const buttonEl =\n",
              "          document.querySelector('#df-78805996-4b46-408a-b5c7-c3836089fe41 button.colab-df-convert');\n",
              "        buttonEl.style.display =\n",
              "          google.colab.kernel.accessAllowed ? 'block' : 'none';\n",
              "\n",
              "        async function convertToInteractive(key) {\n",
              "          const element = document.querySelector('#df-78805996-4b46-408a-b5c7-c3836089fe41');\n",
              "          const dataTable =\n",
              "            await google.colab.kernel.invokeFunction('convertToInteractive',\n",
              "                                                     [key], {});\n",
              "          if (!dataTable) return;\n",
              "\n",
              "          const docLinkHtml = 'Like what you see? Visit the ' +\n",
              "            '<a target=\"_blank\" href=https://colab.research.google.com/notebooks/data_table.ipynb>data table notebook</a>'\n",
              "            + ' to learn more about interactive tables.';\n",
              "          element.innerHTML = '';\n",
              "          dataTable['output_type'] = 'display_data';\n",
              "          await google.colab.output.renderOutput(dataTable, element);\n",
              "          const docLink = document.createElement('div');\n",
              "          docLink.innerHTML = docLinkHtml;\n",
              "          element.appendChild(docLink);\n",
              "        }\n",
              "      </script>\n",
              "    </div>\n",
              "  </div>\n",
              "  "
            ]
          },
          "metadata": {},
          "execution_count": 28
        }
      ]
    },
    {
      "cell_type": "code",
      "source": [
        "# checking the column names\n",
        "\n",
        "Finance.columns"
      ],
      "metadata": {
        "colab": {
          "base_uri": "https://localhost:8080/"
        },
        "id": "2Uge1I9XjnNQ",
        "outputId": "5a2849ef-7eed-4962-fb41-ea6307d17842"
      },
      "execution_count": null,
      "outputs": [
        {
          "output_type": "execute_result",
          "data": {
            "text/plain": [
              "Index(['country', 'year', 'uniqueid', 'Has a Bank account', 'Type of Location',\n",
              "       'Cell Phone Access', 'household_size', 'Respondent Age',\n",
              "       'gender_of_respondent', 'The relathip with head', 'marital_status',\n",
              "       'Level of Educuation', 'Type of Job'],\n",
              "      dtype='object')"
            ]
          },
          "metadata": {},
          "execution_count": 29
        }
      ]
    },
    {
      "cell_type": "markdown",
      "source": [
        "## Checking the datatypes of the dataset"
      ],
      "metadata": {
        "id": "DjoCylL1oKul"
      }
    },
    {
      "cell_type": "code",
      "source": [
        "#checking the datatypes\n",
        "\n",
        "Finance.dtypes\n",
        "\n",
        "# All the data types are right"
      ],
      "metadata": {
        "colab": {
          "base_uri": "https://localhost:8080/"
        },
        "id": "RokA4n3ER-6S",
        "outputId": "46e8fea8-8d84-47e8-d611-c8289025e8ed"
      },
      "execution_count": null,
      "outputs": [
        {
          "output_type": "execute_result",
          "data": {
            "text/plain": [
              "country                    object\n",
              "year                        int64\n",
              "uniqueid                   object\n",
              "Has a Bank account         object\n",
              "Type of Location           object\n",
              "Cell Phone Access          object\n",
              "household_size            float64\n",
              "Respondent Age            float64\n",
              "gender_of_respondent       object\n",
              "The relathip with head     object\n",
              "marital_status             object\n",
              "Level of Educuation        object\n",
              "Type of Job                object\n",
              "dtype: object"
            ]
          },
          "metadata": {},
          "execution_count": 30
        }
      ]
    },
    {
      "cell_type": "markdown",
      "source": [
        "##4. External Data Source Validation"
      ],
      "metadata": {
        "id": "-sq6cxlrpNP0"
      }
    },
    {
      "cell_type": "markdown",
      "source": [
        "###Validation"
      ],
      "metadata": {
        "id": "7tBRQKRGpM5d"
      }
    },
    {
      "cell_type": "markdown",
      "source": [
        "#### The data was extracted from various Finscope surveys for the years 2016, 2017 and 2018. More information about these surveys can be found on these links:\n",
        "\n",
        "#####FinAccess Kenya 2018. [https://fsdkenya.org/publication/finaccess2019/]\n",
        "#####Finscope Rwanda 2016. [http://www.statistics.gov.rw/publication/finscope-rwanda-2016]\n",
        "#####Finscope Tanzania 2017. [http://www.fsdt.or.tz/finscope/]\n",
        "#####Finscope Uganda 2018. [http://fsduganda.or.ug/finscope-2018-survey-report/]\n"
      ],
      "metadata": {
        "id": "snqbe4Erq8I1"
      }
    },
    {
      "cell_type": "markdown",
      "source": [
        "##5. Tidying the Dataset"
      ],
      "metadata": {
        "id": "PZfGP0yMrIWJ"
      }
    },
    {
      "cell_type": "markdown",
      "source": [
        "##Editting column names"
      ],
      "metadata": {
        "id": "ZcH_ZA3CID7b"
      }
    },
    {
      "cell_type": "code",
      "source": [
        "#Edit the column name 'The relathip with head' and name it 'The Relationship with head'\n",
        "\n",
        "Finance.rename(columns = {'The relathip with head' : 'The Relationship with head'}, inplace = True)\n",
        "\n"
      ],
      "metadata": {
        "id": "O7GygfyaIDde"
      },
      "execution_count": null,
      "outputs": []
    },
    {
      "cell_type": "code",
      "source": [
        "Finance.columns"
      ],
      "metadata": {
        "colab": {
          "base_uri": "https://localhost:8080/"
        },
        "id": "TaA_JYnTJiRL",
        "outputId": "fdd3de65-773e-484a-b18e-068f6c2d3b9c"
      },
      "execution_count": null,
      "outputs": [
        {
          "output_type": "execute_result",
          "data": {
            "text/plain": [
              "Index(['country', 'year', 'uniqueid', 'Has a Bank account', 'Type of Location',\n",
              "       'Cell Phone Access', 'household_size', 'Respondent Age',\n",
              "       'gender_of_respondent', 'The Relationship with head', 'marital_status',\n",
              "       'Level of Educuation', 'Type of Job'],\n",
              "      dtype='object')"
            ]
          },
          "metadata": {},
          "execution_count": 32
        }
      ]
    },
    {
      "cell_type": "markdown",
      "source": [
        "##Outliers"
      ],
      "metadata": {
        "id": "88D_IwTbHSAJ"
      }
    },
    {
      "cell_type": "markdown",
      "source": [
        "###We check for outliers in the numerical columns\n",
        "\n"
      ],
      "metadata": {
        "id": "DaYT6vLuMepc"
      }
    },
    {
      "cell_type": "markdown",
      "source": [
        "####i) Respondent Age"
      ],
      "metadata": {
        "id": "rMuXEfB6NAYf"
      }
    },
    {
      "cell_type": "code",
      "source": [
        "#checking for outliers in the column Respondent Age\n",
        "\n",
        "sns.boxplot(x='Has a Bank account', y='Respondent Age', data=Finance)"
      ],
      "metadata": {
        "colab": {
          "base_uri": "https://localhost:8080/",
          "height": 296
        },
        "id": "ri8Mu6k4tzej",
        "outputId": "d83c80d2-7031-44e4-a0a2-45d212f258b0"
      },
      "execution_count": null,
      "outputs": [
        {
          "output_type": "execute_result",
          "data": {
            "text/plain": [
              "<matplotlib.axes._subplots.AxesSubplot at 0x7f3bd86f9750>"
            ]
          },
          "metadata": {},
          "execution_count": 33
        },
        {
          "output_type": "display_data",
          "data": {
            "text/plain": [
              "<Figure size 432x288 with 1 Axes>"
            ],
            "image/png": "[encoded data removed]"
          },
          "metadata": {
            "needs_background": "light"
          }
        }
      ]
    },
    {
      "cell_type": "markdown",
      "source": [
        "#####There are outliers in the Ages of people with bank accounts\n"
      ],
      "metadata": {
        "id": "Lf6E8vtkw5q2"
      }
    },
    {
      "cell_type": "markdown",
      "source": [
        "####ii) household_size"
      ],
      "metadata": {
        "id": "IsA4se_AM7qp"
      }
    },
    {
      "cell_type": "code",
      "source": [
        "#checking for outliers in the column household_size\n",
        "\n",
        "sns.boxplot(x='Has a Bank account', y='household_size', data=Finance)"
      ],
      "metadata": {
        "colab": {
          "base_uri": "https://localhost:8080/",
          "height": 296
        },
        "id": "QPSH-ozGv9vW",
        "outputId": "7e051822-57f3-427b-85d1-ce006a475e82"
      },
      "execution_count": null,
      "outputs": [
        {
          "output_type": "execute_result",
          "data": {
            "text/plain": [
              "<matplotlib.axes._subplots.AxesSubplot at 0x7f3bd7ea3b10>"
            ]
          },
          "metadata": {},
          "execution_count": 34
        },
        {
          "output_type": "display_data",
          "data": {
            "text/plain": [
              "<Figure size 432x288 with 1 Axes>"
            ],
            "image/png": "[encoded data removed]"
          },
          "metadata": {
            "needs_background": "light"
          }
        }
      ]
    },
    {
      "cell_type": "markdown",
      "source": [
        "#####There are outliers in the sizes of households of people with bank accounts\n"
      ],
      "metadata": {
        "id": "PlWqEzPbxQsw"
      }
    },
    {
      "cell_type": "markdown",
      "source": [
        "### Removing with outliers"
      ],
      "metadata": {
        "id": "NUOn00faNPUC"
      }
    },
    {
      "cell_type": "code",
      "source": [
        "# removing outliers\n",
        "\n",
        "# we did not remove any outliers"
      ],
      "metadata": {
        "id": "OQZtJMSMrbtD"
      },
      "execution_count": null,
      "outputs": []
    },
    {
      "cell_type": "markdown",
      "source": [
        "#####We did not remove any outliers since this could interfere with the aim of the study"
      ],
      "metadata": {
        "id": "M5upJOcMxd6V"
      }
    },
    {
      "cell_type": "markdown",
      "source": [
        "##Missing values"
      ],
      "metadata": {
        "id": "1vhwqWsbHXg_"
      }
    },
    {
      "cell_type": "code",
      "source": [
        "# checking for missing data\n",
        "\n",
        "Finance.isnull().sum()"
      ],
      "metadata": {
        "colab": {
          "base_uri": "https://localhost:8080/"
        },
        "id": "ZsqXaUe0ryAp",
        "outputId": "67964978-7dbd-46cb-c0c7-79ee8ddceca0"
      },
      "execution_count": null,
      "outputs": [
        {
          "output_type": "execute_result",
          "data": {
            "text/plain": [
              "country                       14\n",
              "year                           0\n",
              "uniqueid                       0\n",
              "Has a Bank account            36\n",
              "Type of Location              15\n",
              "Cell Phone Access             11\n",
              "household_size                28\n",
              "Respondent Age                34\n",
              "gender_of_respondent          34\n",
              "The Relationship with head     4\n",
              "marital_status                32\n",
              "Level of Educuation           29\n",
              "Type of Job                   30\n",
              "dtype: int64"
            ]
          },
          "metadata": {},
          "execution_count": 36
        }
      ]
    },
    {
      "cell_type": "markdown",
      "source": [
        "## Dealing with missing data"
      ],
      "metadata": {
        "id": "JxVqJ1tsNi5T"
      }
    },
    {
      "cell_type": "code",
      "source": [
        "# dealing with missing data\n"
      ],
      "metadata": {
        "id": "8jW4PJuq48y9"
      },
      "execution_count": null,
      "outputs": []
    },
    {
      "cell_type": "markdown",
      "source": [
        "####We replace the missing values with the frequency of each column except Country column which we will drop any missing observations\n",
        "\n",
        "\n"
      ],
      "metadata": {
        "id": "ijTqXlkA5BK-"
      }
    },
    {
      "cell_type": "markdown",
      "source": [
        "####Replacing missing values with mode of each column"
      ],
      "metadata": {
        "id": "jFNR_38pDrkp"
      }
    },
    {
      "cell_type": "code",
      "source": [
        "## Replacing respondent age with mode\n",
        "\n",
        "Finance['Has a Bank account'].value_counts().idxmax() # No\n",
        "Finance['Has a Bank account'].replace(np.nan, \"No\", inplace = True)"
      ],
      "metadata": {
        "id": "nn3L71L9-t1d"
      },
      "execution_count": null,
      "outputs": []
    },
    {
      "cell_type": "code",
      "source": [
        "## Replacing respondent age with mode\n",
        "\n",
        "Finance['Type of Location'].value_counts().idxmax() # Rural\n",
        "Finance['Type of Location'].replace(np.nan, \"Rural\", inplace = True)"
      ],
      "metadata": {
        "id": "pUNZ5LGY_MB6"
      },
      "execution_count": null,
      "outputs": []
    },
    {
      "cell_type": "code",
      "source": [
        "## Replacing respondent age with mode\n",
        "\n",
        "Finance['Cell Phone Access'].value_counts().idxmax() # Yes\n",
        "Finance['Cell Phone Access'].replace(np.nan, \"Yes\", inplace = True)"
      ],
      "metadata": {
        "id": "pIc3QAWq_Luo"
      },
      "execution_count": null,
      "outputs": []
    },
    {
      "cell_type": "code",
      "source": [
        "# Replacing household size with mode\n",
        "\n",
        "Finance['household_size'].value_counts().idxmax() #2\n",
        "Finance['household_size'].replace(np.nan, \"2\", inplace = True)\n"
      ],
      "metadata": {
        "id": "i0XR6Ow-0ei5"
      },
      "execution_count": null,
      "outputs": []
    },
    {
      "cell_type": "code",
      "source": [
        "## Replacing respondent age with mode\n",
        "\n",
        "Finance['Respondent Age'].value_counts().idxmax() #30\n",
        "Finance['Respondent Age'].replace(np.nan, \"30\", inplace = True)"
      ],
      "metadata": {
        "id": "2G6aCS6G5ucm"
      },
      "execution_count": null,
      "outputs": []
    },
    {
      "cell_type": "code",
      "source": [
        "## Replacing respondent age with mode\n",
        "\n",
        "Finance['gender_of_respondent'].value_counts().idxmax() # Female\n",
        "Finance['gender_of_respondent'].replace(np.nan, \"Female\", inplace = True)"
      ],
      "metadata": {
        "id": "N044KDEt_Lb4"
      },
      "execution_count": null,
      "outputs": []
    },
    {
      "cell_type": "code",
      "source": [
        "## Replacing respondent age with mode\n",
        "\n",
        "Finance['The Relationship with head'].value_counts().idxmax() # Head of Household\n",
        "Finance['The Relationship with head'].replace(np.nan, \"Head of Household\", inplace = True)"
      ],
      "metadata": {
        "id": "ZyB8q3pv_LFN"
      },
      "execution_count": null,
      "outputs": []
    },
    {
      "cell_type": "code",
      "source": [
        "## Replacing respondent age with mode\n",
        "\n",
        "Finance['marital_status'].value_counts().idxmax() # Married/Living together\n",
        "Finance['marital_status'].replace(np.nan, \"Married/Living together\", inplace = True)"
      ],
      "metadata": {
        "id": "XvM34p_A_KbS"
      },
      "execution_count": null,
      "outputs": []
    },
    {
      "cell_type": "code",
      "source": [
        "## Replacing respondent age with mode\n",
        "\n",
        "Finance['Level of Educuation'].value_counts().idxmax() # Primary education\n",
        "Finance['Level of Educuation'].replace(np.nan, \"Primary education\", inplace = True)"
      ],
      "metadata": {
        "id": "FAMQQ3yv_J85"
      },
      "execution_count": null,
      "outputs": []
    },
    {
      "cell_type": "code",
      "source": [
        "## Replacing respondent age with mode\n",
        "\n",
        "Finance['Type of Job'].value_counts().idxmax() # Self employed\n",
        "Finance['Type of Job'].replace(np.nan, \"Self employed\", inplace = True)"
      ],
      "metadata": {
        "id": "Rpjeff4C_JOe"
      },
      "execution_count": null,
      "outputs": []
    },
    {
      "cell_type": "markdown",
      "source": [
        "####Dropping any missing observations in the column Country"
      ],
      "metadata": {
        "id": "eeNdrvO2EKGl"
      }
    },
    {
      "cell_type": "code",
      "source": [
        "# replacing missing values and dropping missing observations in the country column\n",
        "\n",
        "Finance.dropna(axis = 0 , inplace = True)\n",
        "Finance.head(3)"
      ],
      "metadata": {
        "colab": {
          "base_uri": "https://localhost:8080/",
          "height": 294
        },
        "id": "ldRf4t9iBi6J",
        "outputId": "e03fc04d-e2de-4a6c-8d92-204409e5320b"
      },
      "execution_count": null,
      "outputs": [
        {
          "output_type": "execute_result",
          "data": {
            "text/plain": [
              "  country  year    uniqueid Has a Bank account Type of Location  \\\n",
              "0   Kenya  2018  uniqueid_1                Yes            Rural   \n",
              "1   Kenya  2018  uniqueid_2                 No            Rural   \n",
              "2   Kenya  2018  uniqueid_3                Yes            Urban   \n",
              "\n",
              "  Cell Phone Access household_size Respondent Age gender_of_respondent  \\\n",
              "0               Yes            3.0           24.0               Female   \n",
              "1                No            5.0           70.0               Female   \n",
              "2               Yes            5.0           26.0                 Male   \n",
              "\n",
              "  The Relationship with head           marital_status  \\\n",
              "0                     Spouse  Married/Living together   \n",
              "1          Head of Household                  Widowed   \n",
              "2             Other relative     Single/Never Married   \n",
              "\n",
              "               Level of Educuation           Type of Job  \n",
              "0              Secondary education         Self employed  \n",
              "1              No formal education  Government Dependent  \n",
              "2  Vocational/Specialised training         Self employed  "
            ],
            "text/html": [
              "\n",
              "  <div id=\"df-826e23c1-e4c1-4653-9212-939467da2401\">\n",
              "    <div class=\"colab-df-container\">\n",
              "      <div>\n",
              "<style scoped>\n",
              "    .dataframe tbody tr th:only-of-type {\n",
              "        vertical-align: middle;\n",
              "    }\n",
              "\n",
              "    .dataframe tbody tr th {\n",
              "        vertical-align: top;\n",
              "    }\n",
              "\n",
              "    .dataframe thead th {\n",
              "        text-align: right;\n",
              "    }\n",
              "</style>\n",
              "<table border=\"1\" class=\"dataframe\">\n",
              "  <thead>\n",
              "    <tr style=\"text-align: right;\">\n",
              "      <th></th>\n",
              "      <th>country</th>\n",
              "      <th>year</th>\n",
              "      <th>uniqueid</th>\n",
              "      <th>Has a Bank account</th>\n",
              "      <th>Type of Location</th>\n",
              "      <th>Cell Phone Access</th>\n",
              "      <th>household_size</th>\n",
              "      <th>Respondent Age</th>\n",
              "      <th>gender_of_respondent</th>\n",
              "      <th>The Relationship with head</th>\n",
              "      <th>marital_status</th>\n",
              "      <th>Level of Educuation</th>\n",
              "      <th>Type of Job</th>\n",
              "    </tr>\n",
              "  </thead>\n",
              "  <tbody>\n",
              "    <tr>\n",
              "      <th>0</th>\n",
              "      <td>Kenya</td>\n",
              "      <td>2018</td>\n",
              "      <td>uniqueid_1</td>\n",
              "      <td>Yes</td>\n",
              "      <td>Rural</td>\n",
              "      <td>Yes</td>\n",
              "      <td>3.0</td>\n",
              "      <td>24.0</td>\n",
              "      <td>Female</td>\n",
              "      <td>Spouse</td>\n",
              "      <td>Married/Living together</td>\n",
              "      <td>Secondary education</td>\n",
              "      <td>Self employed</td>\n",
              "    </tr>\n",
              "    <tr>\n",
              "      <th>1</th>\n",
              "      <td>Kenya</td>\n",
              "      <td>2018</td>\n",
              "      <td>uniqueid_2</td>\n",
              "      <td>No</td>\n",
              "      <td>Rural</td>\n",
              "      <td>No</td>\n",
              "      <td>5.0</td>\n",
              "      <td>70.0</td>\n",
              "      <td>Female</td>\n",
              "      <td>Head of Household</td>\n",
              "      <td>Widowed</td>\n",
              "      <td>No formal education</td>\n",
              "      <td>Government Dependent</td>\n",
              "    </tr>\n",
              "    <tr>\n",
              "      <th>2</th>\n",
              "      <td>Kenya</td>\n",
              "      <td>2018</td>\n",
              "      <td>uniqueid_3</td>\n",
              "      <td>Yes</td>\n",
              "      <td>Urban</td>\n",
              "      <td>Yes</td>\n",
              "      <td>5.0</td>\n",
              "      <td>26.0</td>\n",
              "      <td>Male</td>\n",
              "      <td>Other relative</td>\n",
              "      <td>Single/Never Married</td>\n",
              "      <td>Vocational/Specialised training</td>\n",
              "      <td>Self employed</td>\n",
              "    </tr>\n",
              "  </tbody>\n",
              "</table>\n",
              "</div>\n",
              "      <button class=\"colab-df-convert\" onclick=\"convertToInteractive('df-826e23c1-e4c1-4653-9212-939467da2401')\"\n",
              "              title=\"Convert this dataframe to an interactive table.\"\n",
              "              style=\"display:none;\">\n",
              "        \n",
              "  <svg xmlns=\"http://www.w3.org/2000/svg\" height=\"24px\"viewBox=\"0 0 24 24\"\n",
              "       width=\"24px\">\n",
              "    <path d=\"M0 0h24v24H0V0z\" fill=\"none\"/>\n",
              "    <path d=\"M18.56 5.44l.94 2.06.94-2.06 2.06-.94-2.06-.94-.94-2.06-.94 2.06-2.06.94zm-11 1L8.5 8.5l.94-2.06 2.06-.94-2.06-.94L8.5 2.5l-.94 2.06-2.06.94zm10 10l.94 2.06.94-2.06 2.06-.94-2.06-.94-.94-2.06-.94 2.06-2.06.94z\"/><path d=\"M17.41 7.96l-1.37-1.37c-.4-.4-.92-.59-1.43-.59-.52 0-1.04.2-1.43.59L10.3 9.45l-7.72 7.72c-.78.78-.78 2.05 0 2.83L4 21.41c.39.39.9.59 1.41.59.51 0 1.02-.2 1.41-.59l7.78-7.78 2.81-2.81c.8-.78.8-2.07 0-2.86zM5.41 20L4 18.59l7.72-7.72 1.47 1.35L5.41 20z\"/>\n",
              "  </svg>\n",
              "      </button>\n",
              "      \n",
              "  <style>\n",
              "    .colab-df-container {\n",
              "      display:flex;\n",
              "      flex-wrap:wrap;\n",
              "      gap: 12px;\n",
              "    }\n",
              "\n",
              "    .colab-df-convert {\n",
              "      background-color: #E8F0FE;\n",
              "      border: none;\n",
              "      border-radius: 50%;\n",
              "      cursor: pointer;\n",
              "      display: none;\n",
              "      fill: #1967D2;\n",
              "      height: 32px;\n",
              "      padding: 0 0 0 0;\n",
              "      width: 32px;\n",
              "    }\n",
              "\n",
              "    .colab-df-convert:hover {\n",
              "      background-color: #E2EBFA;\n",
              "      box-shadow: 0px 1px 2px rgba(60, 64, 67, 0.3), 0px 1px 3px 1px rgba(60, 64, 67, 0.15);\n",
              "      fill: #174EA6;\n",
              "    }\n",
              "\n",
              "    [theme=dark] .colab-df-convert {\n",
              "      background-color: #3B4455;\n",
              "      fill: #D2E3FC;\n",
              "    }\n",
              "\n",
              "    [theme=dark] .colab-df-convert:hover {\n",
              "      background-color: #434B5C;\n",
              "      box-shadow: 0px 1px 3px 1px rgba(0, 0, 0, 0.15);\n",
              "      filter: drop-shadow(0px 1px 2px rgba(0, 0, 0, 0.3));\n",
              "      fill: #FFFFFF;\n",
              "    }\n",
              "  </style>\n",
              "\n",
              "      <script>\n",
              "        const buttonEl =\n",
              "          document.querySelector('#df-826e23c1-e4c1-4653-9212-939467da2401 button.colab-df-convert');\n",
              "        buttonEl.style.display =\n",
              "          google.colab.kernel.accessAllowed ? 'block' : 'none';\n",
              "\n",
              "        async function convertToInteractive(key) {\n",
              "          const element = document.querySelector('#df-826e23c1-e4c1-4653-9212-939467da2401');\n",
              "          const dataTable =\n",
              "            await google.colab.kernel.invokeFunction('convertToInteractive',\n",
              "                                                     [key], {});\n",
              "          if (!dataTable) return;\n",
              "\n",
              "          const docLinkHtml = 'Like what you see? Visit the ' +\n",
              "            '<a target=\"_blank\" href=https://colab.research.google.com/notebooks/data_table.ipynb>data table notebook</a>'\n",
              "            + ' to learn more about interactive tables.';\n",
              "          element.innerHTML = '';\n",
              "          dataTable['output_type'] = 'display_data';\n",
              "          await google.colab.output.renderOutput(dataTable, element);\n",
              "          const docLink = document.createElement('div');\n",
              "          docLink.innerHTML = docLinkHtml;\n",
              "          element.appendChild(docLink);\n",
              "        }\n",
              "      </script>\n",
              "    </div>\n",
              "  </div>\n",
              "  "
            ]
          },
          "metadata": {},
          "execution_count": 48
        }
      ]
    },
    {
      "cell_type": "markdown",
      "source": [
        "####Checking the shape of the new dataframe so see how many observations we lost"
      ],
      "metadata": {
        "id": "jUDX2uy6EWkH"
      }
    },
    {
      "cell_type": "code",
      "source": [
        "Finance.shape\n",
        "\n",
        "# we have lost only 14 rows since initial dataframe had 23,524 rows and 13 columns"
      ],
      "metadata": {
        "colab": {
          "base_uri": "https://localhost:8080/"
        },
        "id": "wjXnRBHbCe8-",
        "outputId": "b37eafa3-59a8-4deb-a4f0-7236e1db4d66"
      },
      "execution_count": null,
      "outputs": [
        {
          "output_type": "execute_result",
          "data": {
            "text/plain": [
              "(23510, 13)"
            ]
          },
          "metadata": {},
          "execution_count": 49
        }
      ]
    },
    {
      "cell_type": "code",
      "source": [
        "Finance.isnull().sum()"
      ],
      "metadata": {
        "colab": {
          "base_uri": "https://localhost:8080/"
        },
        "id": "vj10tcOW4thQ",
        "outputId": "22098dd8-2ab8-48cd-e573-a032670dbee2"
      },
      "execution_count": null,
      "outputs": [
        {
          "output_type": "execute_result",
          "data": {
            "text/plain": [
              "country                       0\n",
              "year                          0\n",
              "uniqueid                      0\n",
              "Has a Bank account            0\n",
              "Type of Location              0\n",
              "Cell Phone Access             0\n",
              "household_size                0\n",
              "Respondent Age                0\n",
              "gender_of_respondent          0\n",
              "The Relationship with head    0\n",
              "marital_status                0\n",
              "Level of Educuation           0\n",
              "Type of Job                   0\n",
              "dtype: int64"
            ]
          },
          "metadata": {},
          "execution_count": 50
        }
      ]
    },
    {
      "cell_type": "markdown",
      "source": [
        "####We have eliminated all the missing values"
      ],
      "metadata": {
        "id": "UYTmCOEFGxxx"
      }
    },
    {
      "cell_type": "markdown",
      "source": [
        "##Anomalies"
      ],
      "metadata": {
        "id": "qKnTWNJkHg_0"
      }
    },
    {
      "cell_type": "code",
      "source": [
        "#Checking for anomalies"
      ],
      "metadata": {
        "id": "N5942l0qHEft"
      },
      "execution_count": null,
      "outputs": []
    },
    {
      "cell_type": "markdown",
      "source": [
        "###Checking for duplicates"
      ],
      "metadata": {
        "id": "xIMWq8ifN36g"
      }
    },
    {
      "cell_type": "code",
      "source": [
        "#Checking for duplicates\n",
        "\n",
        "Finance.duplicated().sum()\n",
        "\n",
        "#there are no duplicates"
      ],
      "metadata": {
        "colab": {
          "base_uri": "https://localhost:8080/"
        },
        "id": "P-zuC2mHG42j",
        "outputId": "94400459-fd4f-4612-9450-54ba6586f746"
      },
      "execution_count": null,
      "outputs": [
        {
          "output_type": "execute_result",
          "data": {
            "text/plain": [
              "0"
            ]
          },
          "metadata": {},
          "execution_count": 52
        }
      ]
    },
    {
      "cell_type": "markdown",
      "source": [
        "####There are no duplicates"
      ],
      "metadata": {
        "id": "WIOi8BnmHnXc"
      }
    },
    {
      "cell_type": "markdown",
      "source": [
        "### Checking for the information about about dataframe"
      ],
      "metadata": {
        "id": "N-Y2RHGsN8R8"
      }
    },
    {
      "cell_type": "code",
      "source": [
        "Finance.info()"
      ],
      "metadata": {
        "colab": {
          "base_uri": "https://localhost:8080/"
        },
        "id": "N8O0p0PgH4lk",
        "outputId": "d61972db-e7f6-4c6b-f3a6-fd181c508d1e"
      },
      "execution_count": null,
      "outputs": [
        {
          "output_type": "stream",
          "name": "stdout",
          "text": [
            "<class 'pandas.core.frame.DataFrame'>\n",
            "Int64Index: 23510 entries, 0 to 23523\n",
            "Data columns (total 13 columns):\n",
            " #   Column                      Non-Null Count  Dtype \n",
            "---  ------                      --------------  ----- \n",
            " 0   country                     23510 non-null  object\n",
            " 1   year                        23510 non-null  int64 \n",
            " 2   uniqueid                    23510 non-null  object\n",
            " 3   Has a Bank account          23510 non-null  object\n",
            " 4   Type of Location            23510 non-null  object\n",
            " 5   Cell Phone Access           23510 non-null  object\n",
            " 6   household_size              23510 non-null  object\n",
            " 7   Respondent Age              23510 non-null  object\n",
            " 8   gender_of_respondent        23510 non-null  object\n",
            " 9   The Relationship with head  23510 non-null  object\n",
            " 10  marital_status              23510 non-null  object\n",
            " 11  Level of Educuation         23510 non-null  object\n",
            " 12  Type of Job                 23510 non-null  object\n",
            "dtypes: int64(1), object(12)\n",
            "memory usage: 2.5+ MB\n"
          ]
        }
      ]
    },
    {
      "cell_type": "markdown",
      "source": [
        "####There are no anomalies"
      ],
      "metadata": {
        "id": "-7qrmrhqKyMX"
      }
    },
    {
      "cell_type": "markdown",
      "source": [
        "### More data cleaning processes"
      ],
      "metadata": {
        "id": "dKY9OX0XRqcm"
      }
    },
    {
      "cell_type": "markdown",
      "source": [
        "#####Changing the data types of respondent age and household size columns from float to integer since we cant have them as floats"
      ],
      "metadata": {
        "id": "JNlqtFVhRuHB"
      }
    },
    {
      "cell_type": "code",
      "source": [
        "# convert \"Respondent Age\" from float to int\n",
        "\n",
        "Finance[\"Respondent Age\"]=Finance[\"Respondent Age\"].astype(int)\n",
        "print(Finance.dtypes)\n"
      ],
      "metadata": {
        "colab": {
          "base_uri": "https://localhost:8080/"
        },
        "id": "FFybnmRnRRMT",
        "outputId": "f5cc036e-32d5-403e-e7b6-d6d4268f333b"
      },
      "execution_count": null,
      "outputs": [
        {
          "output_type": "stream",
          "name": "stdout",
          "text": [
            "country                       object\n",
            "year                           int64\n",
            "uniqueid                      object\n",
            "Has a Bank account            object\n",
            "Type of Location              object\n",
            "Cell Phone Access             object\n",
            "household_size                object\n",
            "Respondent Age                 int64\n",
            "gender_of_respondent          object\n",
            "The Relationship with head    object\n",
            "marital_status                object\n",
            "Level of Educuation           object\n",
            "Type of Job                   object\n",
            "dtype: object\n"
          ]
        }
      ]
    },
    {
      "cell_type": "code",
      "source": [
        "# convert \"household_size\" from float to int\n",
        "\n",
        "Finance[\"household_size\"]=Finance[\"household_size\"].astype(int)\n",
        "print(Finance.dtypes)\n",
        "\n"
      ],
      "metadata": {
        "colab": {
          "base_uri": "https://localhost:8080/"
        },
        "id": "JddekXGeRtzA",
        "outputId": "07660625-dca3-4a5b-db07-eb439b590bcc"
      },
      "execution_count": null,
      "outputs": [
        {
          "output_type": "stream",
          "name": "stdout",
          "text": [
            "country                       object\n",
            "year                           int64\n",
            "uniqueid                      object\n",
            "Has a Bank account            object\n",
            "Type of Location              object\n",
            "Cell Phone Access             object\n",
            "household_size                 int64\n",
            "Respondent Age                 int64\n",
            "gender_of_respondent          object\n",
            "The Relationship with head    object\n",
            "marital_status                object\n",
            "Level of Educuation           object\n",
            "Type of Job                   object\n",
            "dtype: object\n"
          ]
        }
      ]
    },
    {
      "cell_type": "code",
      "source": [
        "# Dropping uniqueid column coz we dont need it\n",
        "\n",
        "Finance.drop('uniqueid', axis=1,inplace=True)\n",
        "Finance.head(3)"
      ],
      "metadata": {
        "colab": {
          "base_uri": "https://localhost:8080/",
          "height": 294
        },
        "id": "Sk5Krj0JEbfP",
        "outputId": "dad75d33-95f4-440f-c32d-06ff92762641"
      },
      "execution_count": null,
      "outputs": [
        {
          "output_type": "execute_result",
          "data": {
            "text/plain": [
              "  country  year Has a Bank account Type of Location Cell Phone Access  \\\n",
              "0   Kenya  2018                Yes            Rural               Yes   \n",
              "1   Kenya  2018                 No            Rural                No   \n",
              "2   Kenya  2018                Yes            Urban               Yes   \n",
              "\n",
              "   household_size  Respondent Age gender_of_respondent  \\\n",
              "0               3              24               Female   \n",
              "1               5              70               Female   \n",
              "2               5              26                 Male   \n",
              "\n",
              "  The Relationship with head           marital_status  \\\n",
              "0                     Spouse  Married/Living together   \n",
              "1          Head of Household                  Widowed   \n",
              "2             Other relative     Single/Never Married   \n",
              "\n",
              "               Level of Educuation           Type of Job  \n",
              "0              Secondary education         Self employed  \n",
              "1              No formal education  Government Dependent  \n",
              "2  Vocational/Specialised training         Self employed  "
            ],
            "text/html": [
              "\n",
              "  <div id=\"df-3bac7c5f-6b52-4dba-ab89-efb6d4dccd66\">\n",
              "    <div class=\"colab-df-container\">\n",
              "      <div>\n",
              "<style scoped>\n",
              "    .dataframe tbody tr th:only-of-type {\n",
              "        vertical-align: middle;\n",
              "    }\n",
              "\n",
              "    .dataframe tbody tr th {\n",
              "        vertical-align: top;\n",
              "    }\n",
              "\n",
              "    .dataframe thead th {\n",
              "        text-align: right;\n",
              "    }\n",
              "</style>\n",
              "<table border=\"1\" class=\"dataframe\">\n",
              "  <thead>\n",
              "    <tr style=\"text-align: right;\">\n",
              "      <th></th>\n",
              "      <th>country</th>\n",
              "      <th>year</th>\n",
              "      <th>Has a Bank account</th>\n",
              "      <th>Type of Location</th>\n",
              "      <th>Cell Phone Access</th>\n",
              "      <th>household_size</th>\n",
              "      <th>Respondent Age</th>\n",
              "      <th>gender_of_respondent</th>\n",
              "      <th>The Relationship with head</th>\n",
              "      <th>marital_status</th>\n",
              "      <th>Level of Educuation</th>\n",
              "      <th>Type of Job</th>\n",
              "    </tr>\n",
              "  </thead>\n",
              "  <tbody>\n",
              "    <tr>\n",
              "      <th>0</th>\n",
              "      <td>Kenya</td>\n",
              "      <td>2018</td>\n",
              "      <td>Yes</td>\n",
              "      <td>Rural</td>\n",
              "      <td>Yes</td>\n",
              "      <td>3</td>\n",
              "      <td>24</td>\n",
              "      <td>Female</td>\n",
              "      <td>Spouse</td>\n",
              "      <td>Married/Living together</td>\n",
              "      <td>Secondary education</td>\n",
              "      <td>Self employed</td>\n",
              "    </tr>\n",
              "    <tr>\n",
              "      <th>1</th>\n",
              "      <td>Kenya</td>\n",
              "      <td>2018</td>\n",
              "      <td>No</td>\n",
              "      <td>Rural</td>\n",
              "      <td>No</td>\n",
              "      <td>5</td>\n",
              "      <td>70</td>\n",
              "      <td>Female</td>\n",
              "      <td>Head of Household</td>\n",
              "      <td>Widowed</td>\n",
              "      <td>No formal education</td>\n",
              "      <td>Government Dependent</td>\n",
              "    </tr>\n",
              "    <tr>\n",
              "      <th>2</th>\n",
              "      <td>Kenya</td>\n",
              "      <td>2018</td>\n",
              "      <td>Yes</td>\n",
              "      <td>Urban</td>\n",
              "      <td>Yes</td>\n",
              "      <td>5</td>\n",
              "      <td>26</td>\n",
              "      <td>Male</td>\n",
              "      <td>Other relative</td>\n",
              "      <td>Single/Never Married</td>\n",
              "      <td>Vocational/Specialised training</td>\n",
              "      <td>Self employed</td>\n",
              "    </tr>\n",
              "  </tbody>\n",
              "</table>\n",
              "</div>\n",
              "      <button class=\"colab-df-convert\" onclick=\"convertToInteractive('df-3bac7c5f-6b52-4dba-ab89-efb6d4dccd66')\"\n",
              "              title=\"Convert this dataframe to an interactive table.\"\n",
              "              style=\"display:none;\">\n",
              "        \n",
              "  <svg xmlns=\"http://www.w3.org/2000/svg\" height=\"24px\"viewBox=\"0 0 24 24\"\n",
              "       width=\"24px\">\n",
              "    <path d=\"M0 0h24v24H0V0z\" fill=\"none\"/>\n",
              "    <path d=\"M18.56 5.44l.94 2.06.94-2.06 2.06-.94-2.06-.94-.94-2.06-.94 2.06-2.06.94zm-11 1L8.5 8.5l.94-2.06 2.06-.94-2.06-.94L8.5 2.5l-.94 2.06-2.06.94zm10 10l.94 2.06.94-2.06 2.06-.94-2.06-.94-.94-2.06-.94 2.06-2.06.94z\"/><path d=\"M17.41 7.96l-1.37-1.37c-.4-.4-.92-.59-1.43-.59-.52 0-1.04.2-1.43.59L10.3 9.45l-7.72 7.72c-.78.78-.78 2.05 0 2.83L4 21.41c.39.39.9.59 1.41.59.51 0 1.02-.2 1.41-.59l7.78-7.78 2.81-2.81c.8-.78.8-2.07 0-2.86zM5.41 20L4 18.59l7.72-7.72 1.47 1.35L5.41 20z\"/>\n",
              "  </svg>\n",
              "      </button>\n",
              "      \n",
              "  <style>\n",
              "    .colab-df-container {\n",
              "      display:flex;\n",
              "      flex-wrap:wrap;\n",
              "      gap: 12px;\n",
              "    }\n",
              "\n",
              "    .colab-df-convert {\n",
              "      background-color: #E8F0FE;\n",
              "      border: none;\n",
              "      border-radius: 50%;\n",
              "      cursor: pointer;\n",
              "      display: none;\n",
              "      fill: #1967D2;\n",
              "      height: 32px;\n",
              "      padding: 0 0 0 0;\n",
              "      width: 32px;\n",
              "    }\n",
              "\n",
              "    .colab-df-convert:hover {\n",
              "      background-color: #E2EBFA;\n",
              "      box-shadow: 0px 1px 2px rgba(60, 64, 67, 0.3), 0px 1px 3px 1px rgba(60, 64, 67, 0.15);\n",
              "      fill: #174EA6;\n",
              "    }\n",
              "\n",
              "    [theme=dark] .colab-df-convert {\n",
              "      background-color: #3B4455;\n",
              "      fill: #D2E3FC;\n",
              "    }\n",
              "\n",
              "    [theme=dark] .colab-df-convert:hover {\n",
              "      background-color: #434B5C;\n",
              "      box-shadow: 0px 1px 3px 1px rgba(0, 0, 0, 0.15);\n",
              "      filter: drop-shadow(0px 1px 2px rgba(0, 0, 0, 0.3));\n",
              "      fill: #FFFFFF;\n",
              "    }\n",
              "  </style>\n",
              "\n",
              "      <script>\n",
              "        const buttonEl =\n",
              "          document.querySelector('#df-3bac7c5f-6b52-4dba-ab89-efb6d4dccd66 button.colab-df-convert');\n",
              "        buttonEl.style.display =\n",
              "          google.colab.kernel.accessAllowed ? 'block' : 'none';\n",
              "\n",
              "        async function convertToInteractive(key) {\n",
              "          const element = document.querySelector('#df-3bac7c5f-6b52-4dba-ab89-efb6d4dccd66');\n",
              "          const dataTable =\n",
              "            await google.colab.kernel.invokeFunction('convertToInteractive',\n",
              "                                                     [key], {});\n",
              "          if (!dataTable) return;\n",
              "\n",
              "          const docLinkHtml = 'Like what you see? Visit the ' +\n",
              "            '<a target=\"_blank\" href=https://colab.research.google.com/notebooks/data_table.ipynb>data table notebook</a>'\n",
              "            + ' to learn more about interactive tables.';\n",
              "          element.innerHTML = '';\n",
              "          dataTable['output_type'] = 'display_data';\n",
              "          await google.colab.output.renderOutput(dataTable, element);\n",
              "          const docLink = document.createElement('div');\n",
              "          docLink.innerHTML = docLinkHtml;\n",
              "          element.appendChild(docLink);\n",
              "        }\n",
              "      </script>\n",
              "    </div>\n",
              "  </div>\n",
              "  "
            ]
          },
          "metadata": {},
          "execution_count": 56
        }
      ]
    },
    {
      "cell_type": "markdown",
      "source": [
        "##6. Exploratory Analysis"
      ],
      "metadata": {
        "id": "9pwuTP52L-Xv"
      }
    },
    {
      "cell_type": "markdown",
      "source": [
        "###1. Univariate Data Analysis"
      ],
      "metadata": {
        "id": "rSH4JYUjhAKt"
      }
    },
    {
      "cell_type": "markdown",
      "source": [
        "#####i) Bank Accounts"
      ],
      "metadata": {
        "id": "RZBu-RYaVnxZ"
      }
    },
    {
      "cell_type": "code",
      "source": [
        "# We plot a histogram to see the distribution of bank account ownership\n",
        "\n",
        "plt.hist(Finance['Has a Bank account'], bins =2)"
      ],
      "metadata": {
        "colab": {
          "base_uri": "https://localhost:8080/",
          "height": 282
        },
        "id": "kJQB1znwZwfO",
        "outputId": "ddeb1b69-e753-42a2-ad0a-77af36b4ec15"
      },
      "execution_count": null,
      "outputs": [
        {
          "output_type": "execute_result",
          "data": {
            "text/plain": [
              "(array([ 3309., 20201.]), array([0. , 0.5, 1. ]), <a list of 2 Patch objects>)"
            ]
          },
          "metadata": {},
          "execution_count": 57
        },
        {
          "output_type": "display_data",
          "data": {
            "text/plain": [
              "<Figure size 432x288 with 1 Axes>"
            ],
            "image/png": "[encoded data removed]"
          },
          "metadata": {
            "needs_background": "light"
          }
        }
      ]
    },
    {
      "cell_type": "code",
      "source": [
        "# We do a value count to see the actual figures\n",
        "\n",
        "Finance['Has a Bank account'].value_counts()"
      ],
      "metadata": {
        "colab": {
          "base_uri": "https://localhost:8080/"
        },
        "id": "dUh5imKKUMbP",
        "outputId": "723371da-9bf4-424f-fc7e-24a54d8115ce"
      },
      "execution_count": null,
      "outputs": [
        {
          "output_type": "execute_result",
          "data": {
            "text/plain": [
              "No     20201\n",
              "Yes     3309\n",
              "Name: Has a Bank account, dtype: int64"
            ]
          },
          "metadata": {},
          "execution_count": 58
        }
      ]
    },
    {
      "cell_type": "markdown",
      "source": [
        "###### Most people do not have bank accounts"
      ],
      "metadata": {
        "id": "ISADbJldUrRI"
      }
    },
    {
      "cell_type": "markdown",
      "source": [
        "#####ii) Type of Location"
      ],
      "metadata": {
        "id": "d5-eD0edVvb1"
      }
    },
    {
      "cell_type": "code",
      "source": [
        "# We plot a countplot to see the distribution of type of location\n",
        "\n",
        "sns.countplot(x='Type of Location', data=Finance)"
      ],
      "metadata": {
        "colab": {
          "base_uri": "https://localhost:8080/",
          "height": 296
        },
        "id": "6ud50JaVgKbH",
        "outputId": "0c4a3f55-9e38-477b-949b-f2b4b0b196e8"
      },
      "execution_count": null,
      "outputs": [
        {
          "output_type": "execute_result",
          "data": {
            "text/plain": [
              "<matplotlib.axes._subplots.AxesSubplot at 0x7f3bd7648a10>"
            ]
          },
          "metadata": {},
          "execution_count": 59
        },
        {
          "output_type": "display_data",
          "data": {
            "text/plain": [
              "<Figure size 432x288 with 1 Axes>"
            ],
            "image/png": "[encoded data removed]"
          },
          "metadata": {
            "needs_background": "light"
          }
        }
      ]
    },
    {
      "cell_type": "code",
      "source": [
        "# We do a value count to see the actual figures\n",
        "\n",
        "Finance['Type of Location'].value_counts()"
      ],
      "metadata": {
        "colab": {
          "base_uri": "https://localhost:8080/"
        },
        "id": "6YoABJPiVXIK",
        "outputId": "7e32f2b8-6661-460f-a70f-ab3a01ad36e7"
      },
      "execution_count": null,
      "outputs": [
        {
          "output_type": "execute_result",
          "data": {
            "text/plain": [
              "Rural    14350\n",
              "Urban     9160\n",
              "Name: Type of Location, dtype: int64"
            ]
          },
          "metadata": {},
          "execution_count": 60
        }
      ]
    },
    {
      "cell_type": "markdown",
      "source": [
        "###### Most people live in the Rural areas"
      ],
      "metadata": {
        "id": "rEpYuAktVIWO"
      }
    },
    {
      "cell_type": "markdown",
      "source": [
        "#####iii) Cell Phone Access"
      ],
      "metadata": {
        "id": "bxbK2PrEWwnp"
      }
    },
    {
      "cell_type": "code",
      "source": [
        "# We plot a countplot to see the distribution of cell phone accessibility\n",
        "\n",
        "\n",
        "sns.countplot(x='Cell Phone Access', data=Finance)"
      ],
      "metadata": {
        "colab": {
          "base_uri": "https://localhost:8080/",
          "height": 296
        },
        "id": "L36wmXBAWebH",
        "outputId": "f8558ffd-fe6d-4638-a01a-74ee16772d1e"
      },
      "execution_count": null,
      "outputs": [
        {
          "output_type": "execute_result",
          "data": {
            "text/plain": [
              "<matplotlib.axes._subplots.AxesSubplot at 0x7f3bd75c5250>"
            ]
          },
          "metadata": {},
          "execution_count": 61
        },
        {
          "output_type": "display_data",
          "data": {
            "text/plain": [
              "<Figure size 432x288 with 1 Axes>"
            ],
            "image/png": "[encoded data removed]"
          },
          "metadata": {
            "needs_background": "light"
          }
        }
      ]
    },
    {
      "cell_type": "code",
      "source": [
        "# We do a value count to see the actual figures\n",
        "\n",
        "Finance['Cell Phone Access'].value_counts()"
      ],
      "metadata": {
        "colab": {
          "base_uri": "https://localhost:8080/"
        },
        "id": "kzCy0XJJWhDF",
        "outputId": "99107534-6896-45ab-ab0c-58cc3014d743"
      },
      "execution_count": null,
      "outputs": [
        {
          "output_type": "execute_result",
          "data": {
            "text/plain": [
              "Yes    17454\n",
              "No      6056\n",
              "Name: Cell Phone Access, dtype: int64"
            ]
          },
          "metadata": {},
          "execution_count": 62
        }
      ]
    },
    {
      "cell_type": "markdown",
      "source": [
        "###### Most people have access to cellphones"
      ],
      "metadata": {
        "id": "sbYYhnmZW7u5"
      }
    },
    {
      "cell_type": "markdown",
      "source": [
        "#####iv)House hold size\n",
        "\n",
        "\n"
      ],
      "metadata": {
        "id": "-TGM1sj9XQlX"
      }
    },
    {
      "cell_type": "code",
      "source": [
        "# We plot a countplot to see the different sizes of households\n",
        "\n",
        "\n",
        "sns.countplot(x='household_size', data=Finance,\n",
        "              order = Finance['household_size'].value_counts().index)\n",
        "plt.xticks(rotation = 90)"
      ],
      "metadata": {
        "colab": {
          "base_uri": "https://localhost:8080/",
          "height": 318
        },
        "id": "od3XO493Wd0U",
        "outputId": "9f2080bc-39b3-4219-dc5c-71be082224fe"
      },
      "execution_count": null,
      "outputs": [
        {
          "output_type": "execute_result",
          "data": {
            "text/plain": [
              "(array([ 0,  1,  2,  3,  4,  5,  6,  7,  8,  9, 10, 11, 12, 13, 14, 15, 16,\n",
              "        17, 18, 19, 20]), <a list of 21 Text major ticklabel objects>)"
            ]
          },
          "metadata": {},
          "execution_count": 63
        },
        {
          "output_type": "display_data",
          "data": {
            "text/plain": [
              "<Figure size 432x288 with 1 Axes>"
            ],
            "image/png": "[encoded data removed]"
          },
          "metadata": {
            "needs_background": "light"
          }
        }
      ]
    },
    {
      "cell_type": "code",
      "source": [
        "# We do a value count to see the actual figures\n",
        "\n",
        "Finance['household_size'].value_counts()"
      ],
      "metadata": {
        "colab": {
          "base_uri": "https://localhost:8080/"
        },
        "id": "NZ7k09RXWh7X",
        "outputId": "4a4b69c6-77c8-41f4-b7a5-fafcebde3785"
      },
      "execution_count": null,
      "outputs": [
        {
          "output_type": "execute_result",
          "data": {
            "text/plain": [
              "2     5155\n",
              "1     3962\n",
              "3     3531\n",
              "4     3211\n",
              "5     2727\n",
              "6     2031\n",
              "7     1383\n",
              "8      741\n",
              "9      356\n",
              "10     192\n",
              "11      66\n",
              "12      66\n",
              "0       36\n",
              "13      25\n",
              "15      11\n",
              "14       9\n",
              "16       4\n",
              "21       1\n",
              "18       1\n",
              "17       1\n",
              "20       1\n",
              "Name: household_size, dtype: int64"
            ]
          },
          "metadata": {},
          "execution_count": 64
        }
      ]
    },
    {
      "cell_type": "markdown",
      "source": [
        "#####v) Age groups"
      ],
      "metadata": {
        "id": "u-PHG-48YRC-"
      }
    },
    {
      "cell_type": "code",
      "source": [
        "# We plot a countplot to see the distribution age in this study\n",
        "\n",
        "\n",
        "sns.countplot(x='Respondent Age', data=Finance,\n",
        "              order = Finance['Respondent Age'].value_counts().index)\n",
        "\n",
        "\n",
        "plt.xticks(rotation = 90)"
      ],
      "metadata": {
        "colab": {
          "base_uri": "https://localhost:8080/",
          "height": 392
        },
        "id": "S32n92t-WdY9",
        "outputId": "34feb8e4-3497-437d-9f27-3522815c98b8"
      },
      "execution_count": null,
      "outputs": [
        {
          "output_type": "execute_result",
          "data": {
            "text/plain": [
              "(array([ 0,  1,  2,  3,  4,  5,  6,  7,  8,  9, 10, 11, 12, 13, 14, 15, 16,\n",
              "        17, 18, 19, 20, 21, 22, 23, 24, 25, 26, 27, 28, 29, 30, 31, 32, 33,\n",
              "        34, 35, 36, 37, 38, 39, 40, 41, 42, 43, 44, 45, 46, 47, 48, 49, 50,\n",
              "        51, 52, 53, 54, 55, 56, 57, 58, 59, 60, 61, 62, 63, 64, 65, 66, 67,\n",
              "        68, 69, 70, 71, 72, 73, 74, 75, 76, 77, 78, 79, 80, 81, 82, 83, 84]),\n",
              " <a list of 85 Text major ticklabel objects>)"
            ]
          },
          "metadata": {},
          "execution_count": 65
        },
        {
          "output_type": "display_data",
          "data": {
            "text/plain": [
              "<Figure size 432x288 with 1 Axes>"
            ],
            "image/png": "[encoded data removed]"
          },
          "metadata": {
            "needs_background": "light"
          }
        }
      ]
    },
    {
      "cell_type": "code",
      "source": [
        "# We do a value count to see the actual figures\n",
        "\n",
        "Finance['Respondent Age'].value_counts()"
      ],
      "metadata": {
        "colab": {
          "base_uri": "https://localhost:8080/"
        },
        "id": "X1ZwLm2AWlHz",
        "outputId": "041a091a-f342-4110-817c-8ebf7a203a6a"
      },
      "execution_count": null,
      "outputs": [
        {
          "output_type": "execute_result",
          "data": {
            "text/plain": [
              "30     1086\n",
              "35      834\n",
              "25      789\n",
              "28      746\n",
              "32      714\n",
              "       ... \n",
              "100       5\n",
              "93        4\n",
              "96        3\n",
              "99        2\n",
              "97        1\n",
              "Name: Respondent Age, Length: 85, dtype: int64"
            ]
          },
          "metadata": {},
          "execution_count": 66
        }
      ]
    },
    {
      "cell_type": "markdown",
      "source": [
        "###### Most correspondents were 30years old"
      ],
      "metadata": {
        "id": "SE1RKq1GYglX"
      }
    },
    {
      "cell_type": "markdown",
      "source": [
        "#####vi) Gender"
      ],
      "metadata": {
        "id": "0y8-nxouYrPc"
      }
    },
    {
      "cell_type": "code",
      "source": [
        "# We plot a countplot to see the distribution of gender\n",
        "\n",
        "\n",
        "sns.countplot(x='gender_of_respondent', data=Finance)"
      ],
      "metadata": {
        "colab": {
          "base_uri": "https://localhost:8080/",
          "height": 297
        },
        "id": "34hPHYENWc73",
        "outputId": "d0d731ae-879c-44db-e6aa-05e57ccec019"
      },
      "execution_count": null,
      "outputs": [
        {
          "output_type": "execute_result",
          "data": {
            "text/plain": [
              "<matplotlib.axes._subplots.AxesSubplot at 0x7f3bd7232c10>"
            ]
          },
          "metadata": {},
          "execution_count": 67
        },
        {
          "output_type": "display_data",
          "data": {
            "text/plain": [
              "<Figure size 432x288 with 1 Axes>"
            ],
            "image/png": "[encoded data removed]"
          },
          "metadata": {
            "needs_background": "light"
          }
        }
      ]
    },
    {
      "cell_type": "code",
      "source": [
        "# We do a value count to see the actual figures\n",
        "\n",
        "Finance['gender_of_respondent'].value_counts()"
      ],
      "metadata": {
        "colab": {
          "base_uri": "https://localhost:8080/"
        },
        "id": "rydq5wehWlvZ",
        "outputId": "a22ffe21-e32c-4e0c-f8af-f0f27a01bf00"
      },
      "execution_count": null,
      "outputs": [
        {
          "output_type": "execute_result",
          "data": {
            "text/plain": [
              "Female    13883\n",
              "Male       9627\n",
              "Name: gender_of_respondent, dtype: int64"
            ]
          },
          "metadata": {},
          "execution_count": 68
        }
      ]
    },
    {
      "cell_type": "markdown",
      "source": [
        "######Most correspondents were females"
      ],
      "metadata": {
        "id": "Eh79u3kpY_XV"
      }
    },
    {
      "cell_type": "markdown",
      "source": [
        "#####vii) Whether household head or not"
      ],
      "metadata": {
        "id": "Pa-QWJaWZRhR"
      }
    },
    {
      "cell_type": "code",
      "source": [
        "# We plot a countplot to see the distribution of household head\n",
        "\n",
        "\n",
        "sns.countplot(x='The Relationship with head', data=Finance,\n",
        "              order = Finance['The Relationship with head'].value_counts().index)\n",
        "\n",
        "plt.xticks(rotation = 90)"
      ],
      "metadata": {
        "colab": {
          "base_uri": "https://localhost:8080/",
          "height": 383
        },
        "id": "4_KUWWODWbeS",
        "outputId": "c96c70f8-9a66-454a-c7c2-b870867be7c8"
      },
      "execution_count": null,
      "outputs": [
        {
          "output_type": "execute_result",
          "data": {
            "text/plain": [
              "(array([0, 1, 2, 3, 4, 5]), <a list of 6 Text major ticklabel objects>)"
            ]
          },
          "metadata": {},
          "execution_count": 69
        },
        {
          "output_type": "display_data",
          "data": {
            "text/plain": [
              "<Figure size 432x288 with 1 Axes>"
            ],
            "image/png": "[encoded data removed]"
          },
          "metadata": {
            "needs_background": "light"
          }
        }
      ]
    },
    {
      "cell_type": "code",
      "source": [
        "# We do a value count to see the actual figures\n",
        "\n",
        "Finance['The Relationship with head'].value_counts()"
      ],
      "metadata": {
        "colab": {
          "base_uri": "https://localhost:8080/"
        },
        "id": "WBtCPFhCWmXy",
        "outputId": "f05bd84e-2246-4d54-c174-2f20eb9962ae"
      },
      "execution_count": null,
      "outputs": [
        {
          "output_type": "execute_result",
          "data": {
            "text/plain": [
              "Head of Household      12828\n",
              "Spouse                  6514\n",
              "Child                   2228\n",
              "Parent                  1084\n",
              "Other relative           666\n",
              "Other non-relatives      190\n",
              "Name: The Relationship with head, dtype: int64"
            ]
          },
          "metadata": {},
          "execution_count": 70
        }
      ]
    },
    {
      "cell_type": "markdown",
      "source": [
        "###### Most correspondents were heads of house holds"
      ],
      "metadata": {
        "id": "Gtpv_ieB3WSd"
      }
    },
    {
      "cell_type": "markdown",
      "source": [
        "#####viii) Marital status"
      ],
      "metadata": {
        "id": "CpMlDK50S03h"
      }
    },
    {
      "cell_type": "code",
      "source": [
        "# We plot a countplot to see the distribution of different types of marital status\n",
        "\n",
        "sns.countplot(x='marital_status', data=Finance,\n",
        "              order = Finance['marital_status'].value_counts().index)\n",
        "\n",
        "plt.xticks(rotation = 90)"
      ],
      "metadata": {
        "colab": {
          "base_uri": "https://localhost:8080/",
          "height": 405
        },
        "id": "ZtyCT0eVOz4x",
        "outputId": "8d0467f7-e48c-495c-a936-8fbe14967b1f"
      },
      "execution_count": null,
      "outputs": [
        {
          "output_type": "execute_result",
          "data": {
            "text/plain": [
              "(array([0, 1, 2, 3, 4]), <a list of 5 Text major ticklabel objects>)"
            ]
          },
          "metadata": {},
          "execution_count": 71
        },
        {
          "output_type": "display_data",
          "data": {
            "text/plain": [
              "<Figure size 432x288 with 1 Axes>"
            ],
            "image/png": "[encoded data removed]"
          },
          "metadata": {
            "needs_background": "light"
          }
        }
      ]
    },
    {
      "cell_type": "code",
      "source": [
        "# We do a value count to see the actual figures\n",
        "\n",
        "Finance['marital_status'].value_counts()"
      ],
      "metadata": {
        "colab": {
          "base_uri": "https://localhost:8080/"
        },
        "id": "fA1dZtqhUAGk",
        "outputId": "0d2a43e9-4332-4ede-8346-5fa48af4a813"
      },
      "execution_count": null,
      "outputs": [
        {
          "output_type": "execute_result",
          "data": {
            "text/plain": [
              "Married/Living together    10769\n",
              "Single/Never Married        7967\n",
              "Widowed                     2697\n",
              "Divorced/Seperated          2069\n",
              "Dont know                      8\n",
              "Name: marital_status, dtype: int64"
            ]
          },
          "metadata": {},
          "execution_count": 72
        }
      ]
    },
    {
      "cell_type": "markdown",
      "source": [
        "###### Most respondents were married or living together"
      ],
      "metadata": {
        "id": "If0hx3_jTCK_"
      }
    },
    {
      "cell_type": "markdown",
      "source": [
        "#####ix) Level of Education"
      ],
      "metadata": {
        "id": "QB2I6_nBTK1E"
      }
    },
    {
      "cell_type": "code",
      "source": [
        "# We plot a countplot to see the distribution of the different levels off education\n",
        "\n",
        "sns.countplot(x='Level of Educuation', data=Finance,\n",
        "              order = Finance['Level of Educuation'].value_counts().index)\n",
        "\n",
        "plt.xticks(rotation = 90)"
      ],
      "metadata": {
        "colab": {
          "base_uri": "https://localhost:8080/",
          "height": 440
        },
        "id": "5UnkEHpZOzvJ",
        "outputId": "bb3f8c4e-542c-4d26-e404-7e606a869bfb"
      },
      "execution_count": null,
      "outputs": [
        {
          "output_type": "execute_result",
          "data": {
            "text/plain": [
              "(array([0, 1, 2, 3, 4, 5, 6]), <a list of 7 Text major ticklabel objects>)"
            ]
          },
          "metadata": {},
          "execution_count": 73
        },
        {
          "output_type": "display_data",
          "data": {
            "text/plain": [
              "<Figure size 432x288 with 1 Axes>"
            ],
            "image/png": "[encoded data removed]"
          },
          "metadata": {
            "needs_background": "light"
          }
        }
      ]
    },
    {
      "cell_type": "code",
      "source": [
        "print(Finance['Level of Educuation'])"
      ],
      "metadata": {
        "colab": {
          "base_uri": "https://localhost:8080/"
        },
        "id": "Wj02zPTPYMeX",
        "outputId": "10120b4d-a345-4b8c-cbbc-2b729c69a8e4"
      },
      "execution_count": null,
      "outputs": [
        {
          "output_type": "stream",
          "name": "stdout",
          "text": [
            "0                    Secondary education\n",
            "1                    No formal education\n",
            "2        Vocational/Specialised training\n",
            "3                      Primary education\n",
            "4                      Primary education\n",
            "                      ...               \n",
            "23519                No formal education\n",
            "23520                Secondary education\n",
            "23521                  Primary education\n",
            "23522                Secondary education\n",
            "23523                Secondary education\n",
            "Name: Level of Educuation, Length: 23510, dtype: object\n"
          ]
        }
      ]
    },
    {
      "cell_type": "code",
      "source": [
        "# We do a value count to see the actual figures\n",
        "\n",
        "Finance['Level of Educuation'].value_counts()"
      ],
      "metadata": {
        "colab": {
          "base_uri": "https://localhost:8080/"
        },
        "id": "9TjM4ZdYUBzL",
        "outputId": "93c82472-4fed-48ca-ab72-53e7613d2d0d"
      },
      "execution_count": null,
      "outputs": [
        {
          "output_type": "execute_result",
          "data": {
            "text/plain": [
              "Primary education                  12799\n",
              "No formal education                 4499\n",
              "Secondary education                 4218\n",
              "Tertiary education                  1156\n",
              "Vocational/Specialised training      803\n",
              "6                                     27\n",
              "Other/Dont know/RTA                    8\n",
              "Name: Level of Educuation, dtype: int64"
            ]
          },
          "metadata": {},
          "execution_count": 75
        }
      ]
    },
    {
      "cell_type": "markdown",
      "source": [
        "###### Most individuals had studied upto primary school levels "
      ],
      "metadata": {
        "id": "Zo3qQf_STTR-"
      }
    },
    {
      "cell_type": "markdown",
      "source": [
        "#####x) Type of job"
      ],
      "metadata": {
        "id": "WulGsatvTsxz"
      }
    },
    {
      "cell_type": "code",
      "source": [
        "# We plot a countplot to see the distribution of different types of job types\n",
        "\n",
        "sns.countplot(x='Type of Job', data=Finance, \n",
        "              order = Finance['Type of Job'].value_counts().index)\n",
        "\n",
        "plt.xticks(rotation = 90)"
      ],
      "metadata": {
        "colab": {
          "base_uri": "https://localhost:8080/",
          "height": 465
        },
        "id": "tsi1UirQOzj9",
        "outputId": "01ed152c-ab2e-4f7d-e71e-edea0202b030"
      },
      "execution_count": null,
      "outputs": [
        {
          "output_type": "execute_result",
          "data": {
            "text/plain": [
              "(array([0, 1, 2, 3, 4, 5, 6, 7, 8, 9]),\n",
              " <a list of 10 Text major ticklabel objects>)"
            ]
          },
          "metadata": {},
          "execution_count": 76
        },
        {
          "output_type": "display_data",
          "data": {
            "text/plain": [
              "<Figure size 432x288 with 1 Axes>"
            ],
            "image/png": "[encoded data removed]"
          },
          "metadata": {
            "needs_background": "light"
          }
        }
      ]
    },
    {
      "cell_type": "code",
      "source": [
        "# We do a value count to see the actual figures\n",
        "\n",
        "Finance['Type of Job'].value_counts()"
      ],
      "metadata": {
        "colab": {
          "base_uri": "https://localhost:8080/"
        },
        "id": "niSl-lU2UDYO",
        "outputId": "ef348cf9-b585-4708-9e59-7886adfa3492"
      },
      "execution_count": null,
      "outputs": [
        {
          "output_type": "execute_result",
          "data": {
            "text/plain": [
              "Self employed                   6450\n",
              "Informally employed             5586\n",
              "Farming and Fishing             5433\n",
              "Remittance Dependent            2521\n",
              "Other Income                    1080\n",
              "Formally employed Private       1055\n",
              "No Income                        625\n",
              "Formally employed Government     387\n",
              "Government Dependent             247\n",
              "Dont Know/Refuse to answer       126\n",
              "Name: Type of Job, dtype: int64"
            ]
          },
          "metadata": {},
          "execution_count": 77
        }
      ]
    },
    {
      "cell_type": "markdown",
      "source": [
        "###### Most people were self employed"
      ],
      "metadata": {
        "id": "U0G16Ve9TxOu"
      }
    },
    {
      "cell_type": "markdown",
      "source": [
        "###2. Bivariate Data Analysis"
      ],
      "metadata": {
        "id": "Sgpc8DmMabHA"
      }
    },
    {
      "cell_type": "markdown",
      "source": [
        "#### For this section, we will be looking at how any two demographical factors relate to each other hence affecting financial inclusion"
      ],
      "metadata": {
        "id": "xzG0cecWlpVs"
      }
    },
    {
      "cell_type": "markdown",
      "source": [
        "##### First we compare the fields that have numerical data"
      ],
      "metadata": {
        "id": "lM3phN37KVC6"
      }
    },
    {
      "cell_type": "code",
      "source": [
        "# listing our field names for reference\n",
        "\n",
        "Finance.columns"
      ],
      "metadata": {
        "colab": {
          "base_uri": "https://localhost:8080/"
        },
        "id": "EQTsm6hxDo7c",
        "outputId": "cefb31a1-ea2a-4a84-8938-4a8f88e7061b"
      },
      "execution_count": null,
      "outputs": [
        {
          "output_type": "execute_result",
          "data": {
            "text/plain": [
              "Index(['country', 'year', 'Has a Bank account', 'Type of Location',\n",
              "       'Cell Phone Access', 'household_size', 'Respondent Age',\n",
              "       'gender_of_respondent', 'The Relationship with head', 'marital_status',\n",
              "       'Level of Educuation', 'Type of Job'],\n",
              "      dtype='object')"
            ]
          },
          "metadata": {},
          "execution_count": 78
        }
      ]
    },
    {
      "cell_type": "code",
      "source": [
        "# Creating a new dataframe\n",
        "\n",
        "Household_and_ages = pd.DataFrame(Finance[['Respondent Age', 'household_size']])\n",
        "\n",
        "# previewing\n",
        "Household_and_ages.head()"
      ],
      "metadata": {
        "colab": {
          "base_uri": "https://localhost:8080/",
          "height": 206
        },
        "id": "mtUEqrqoFYrY",
        "outputId": "d475b6b7-738e-4aea-9abc-6c4d23f43c4a"
      },
      "execution_count": null,
      "outputs": [
        {
          "output_type": "execute_result",
          "data": {
            "text/plain": [
              "   Respondent Age  household_size\n",
              "0              24               3\n",
              "1              70               5\n",
              "2              26               5\n",
              "3              34               5\n",
              "4              26               8"
            ],
            "text/html": [
              "\n",
              "  <div id=\"df-eebdc5a0-e9f0-4cde-89ee-ce9ca2265187\">\n",
              "    <div class=\"colab-df-container\">\n",
              "      <div>\n",
              "<style scoped>\n",
              "    .dataframe tbody tr th:only-of-type {\n",
              "        vertical-align: middle;\n",
              "    }\n",
              "\n",
              "    .dataframe tbody tr th {\n",
              "        vertical-align: top;\n",
              "    }\n",
              "\n",
              "    .dataframe thead th {\n",
              "        text-align: right;\n",
              "    }\n",
              "</style>\n",
              "<table border=\"1\" class=\"dataframe\">\n",
              "  <thead>\n",
              "    <tr style=\"text-align: right;\">\n",
              "      <th></th>\n",
              "      <th>Respondent Age</th>\n",
              "      <th>household_size</th>\n",
              "    </tr>\n",
              "  </thead>\n",
              "  <tbody>\n",
              "    <tr>\n",
              "      <th>0</th>\n",
              "      <td>24</td>\n",
              "      <td>3</td>\n",
              "    </tr>\n",
              "    <tr>\n",
              "      <th>1</th>\n",
              "      <td>70</td>\n",
              "      <td>5</td>\n",
              "    </tr>\n",
              "    <tr>\n",
              "      <th>2</th>\n",
              "      <td>26</td>\n",
              "      <td>5</td>\n",
              "    </tr>\n",
              "    <tr>\n",
              "      <th>3</th>\n",
              "      <td>34</td>\n",
              "      <td>5</td>\n",
              "    </tr>\n",
              "    <tr>\n",
              "      <th>4</th>\n",
              "      <td>26</td>\n",
              "      <td>8</td>\n",
              "    </tr>\n",
              "  </tbody>\n",
              "</table>\n",
              "</div>\n",
              "      <button class=\"colab-df-convert\" onclick=\"convertToInteractive('df-eebdc5a0-e9f0-4cde-89ee-ce9ca2265187')\"\n",
              "              title=\"Convert this dataframe to an interactive table.\"\n",
              "              style=\"display:none;\">\n",
              "        \n",
              "  <svg xmlns=\"http://www.w3.org/2000/svg\" height=\"24px\"viewBox=\"0 0 24 24\"\n",
              "       width=\"24px\">\n",
              "    <path d=\"M0 0h24v24H0V0z\" fill=\"none\"/>\n",
              "    <path d=\"M18.56 5.44l.94 2.06.94-2.06 2.06-.94-2.06-.94-.94-2.06-.94 2.06-2.06.94zm-11 1L8.5 8.5l.94-2.06 2.06-.94-2.06-.94L8.5 2.5l-.94 2.06-2.06.94zm10 10l.94 2.06.94-2.06 2.06-.94-2.06-.94-.94-2.06-.94 2.06-2.06.94z\"/><path d=\"M17.41 7.96l-1.37-1.37c-.4-.4-.92-.59-1.43-.59-.52 0-1.04.2-1.43.59L10.3 9.45l-7.72 7.72c-.78.78-.78 2.05 0 2.83L4 21.41c.39.39.9.59 1.41.59.51 0 1.02-.2 1.41-.59l7.78-7.78 2.81-2.81c.8-.78.8-2.07 0-2.86zM5.41 20L4 18.59l7.72-7.72 1.47 1.35L5.41 20z\"/>\n",
              "  </svg>\n",
              "      </button>\n",
              "      \n",
              "  <style>\n",
              "    .colab-df-container {\n",
              "      display:flex;\n",
              "      flex-wrap:wrap;\n",
              "      gap: 12px;\n",
              "    }\n",
              "\n",
              "    .colab-df-convert {\n",
              "      background-color: #E8F0FE;\n",
              "      border: none;\n",
              "      border-radius: 50%;\n",
              "      cursor: pointer;\n",
              "      display: none;\n",
              "      fill: #1967D2;\n",
              "      height: 32px;\n",
              "      padding: 0 0 0 0;\n",
              "      width: 32px;\n",
              "    }\n",
              "\n",
              "    .colab-df-convert:hover {\n",
              "      background-color: #E2EBFA;\n",
              "      box-shadow: 0px 1px 2px rgba(60, 64, 67, 0.3), 0px 1px 3px 1px rgba(60, 64, 67, 0.15);\n",
              "      fill: #174EA6;\n",
              "    }\n",
              "\n",
              "    [theme=dark] .colab-df-convert {\n",
              "      background-color: #3B4455;\n",
              "      fill: #D2E3FC;\n",
              "    }\n",
              "\n",
              "    [theme=dark] .colab-df-convert:hover {\n",
              "      background-color: #434B5C;\n",
              "      box-shadow: 0px 1px 3px 1px rgba(0, 0, 0, 0.15);\n",
              "      filter: drop-shadow(0px 1px 2px rgba(0, 0, 0, 0.3));\n",
              "      fill: #FFFFFF;\n",
              "    }\n",
              "  </style>\n",
              "\n",
              "      <script>\n",
              "        const buttonEl =\n",
              "          document.querySelector('#df-eebdc5a0-e9f0-4cde-89ee-ce9ca2265187 button.colab-df-convert');\n",
              "        buttonEl.style.display =\n",
              "          google.colab.kernel.accessAllowed ? 'block' : 'none';\n",
              "\n",
              "        async function convertToInteractive(key) {\n",
              "          const element = document.querySelector('#df-eebdc5a0-e9f0-4cde-89ee-ce9ca2265187');\n",
              "          const dataTable =\n",
              "            await google.colab.kernel.invokeFunction('convertToInteractive',\n",
              "                                                     [key], {});\n",
              "          if (!dataTable) return;\n",
              "\n",
              "          const docLinkHtml = 'Like what you see? Visit the ' +\n",
              "            '<a target=\"_blank\" href=https://colab.research.google.com/notebooks/data_table.ipynb>data table notebook</a>'\n",
              "            + ' to learn more about interactive tables.';\n",
              "          element.innerHTML = '';\n",
              "          dataTable['output_type'] = 'display_data';\n",
              "          await google.colab.output.renderOutput(dataTable, element);\n",
              "          const docLink = document.createElement('div');\n",
              "          docLink.innerHTML = docLinkHtml;\n",
              "          element.appendChild(docLink);\n",
              "        }\n",
              "      </script>\n",
              "    </div>\n",
              "  </div>\n",
              "  "
            ]
          },
          "metadata": {},
          "execution_count": 79
        }
      ]
    },
    {
      "cell_type": "code",
      "source": [
        "# We plot a scatter plot to see the relationship between respondents ages and household sizes\n",
        "\n",
        "# Plotting our scatterplot\n",
        "plt.scatter(Household_and_ages['Respondent Age'], Household_and_ages['household_size'])\n",
        "\n",
        "# Giving our scatterplot a title\n",
        "plt.title('Age of Respondent vs Size of Household')\n",
        "\n",
        "# Labelling our x axis\n",
        "plt.xlabel('Ages')\n",
        "\n",
        "# Labelling our y axis\n",
        "plt.ylabel('Household size')\n",
        "\n",
        "# Displaying our scatterplot\n",
        "plt.show()\n"
      ],
      "metadata": {
        "colab": {
          "base_uri": "https://localhost:8080/",
          "height": 295
        },
        "id": "FvXDOItjM33S",
        "outputId": "9fc9298d-6f1e-40e0-eebe-dd439540cf9f"
      },
      "execution_count": null,
      "outputs": [
        {
          "output_type": "display_data",
          "data": {
            "text/plain": [
              "<Figure size 432x288 with 1 Axes>"
            ],
            "image/png": "[encoded data removed]"
          },
          "metadata": {
            "needs_background": "light"
          }
        }
      ]
    },
    {
      "cell_type": "markdown",
      "source": [
        "###### There is no correlation between the size of the household and the age of respondents as the points seem to be on horizontal orientation hence null correlation."
      ],
      "metadata": {
        "id": "6NsuBun0VizT"
      }
    },
    {
      "cell_type": "code",
      "source": [
        "# We plot a pair plot to see the co-relationship between household sizes and ages\n",
        "\n",
        "sns.pairplot(Household_and_ages)\n",
        "plt.show()\n"
      ],
      "metadata": {
        "colab": {
          "base_uri": "https://localhost:8080/",
          "height": 374
        },
        "id": "ecoqs1XKucCc",
        "outputId": "4ddc1eae-1f8a-4b7a-8219-1c3b718d3a8c"
      },
      "execution_count": null,
      "outputs": [
        {
          "output_type": "display_data",
          "data": {
            "text/plain": [
              "<Figure size 360x360 with 6 Axes>"
            ],
            "image/png": "[encoded data removed]"
          },
          "metadata": {
            "needs_background": "light"
          }
        }
      ]
    },
    {
      "cell_type": "code",
      "source": [
        "# we plot a heatmap giving the correlation matrix\n",
        "\n",
        "sns.heatmap(Household_and_ages.corr(), annot = True)\n",
        "plt.show()"
      ],
      "metadata": {
        "colab": {
          "base_uri": "https://localhost:8080/",
          "height": 270
        },
        "id": "Mrubhs4mWIuP",
        "outputId": "592baaf7-a322-449e-81ee-38f6676e89da"
      },
      "execution_count": null,
      "outputs": [
        {
          "output_type": "display_data",
          "data": {
            "text/plain": [
              "<Figure size 432x288 with 2 Axes>"
            ],
            "image/png": "[encoded data removed]"
          },
          "metadata": {
            "needs_background": "light"
          }
        }
      ]
    },
    {
      "cell_type": "markdown",
      "source": [
        "###### The correlation between the size of the household and the age of respondent is -0.12 which shows a weak negative correlation; this can be concluded as no correlation."
      ],
      "metadata": {
        "id": "D3Gh19SKTK9R"
      }
    },
    {
      "cell_type": "markdown",
      "source": [
        "#### We install researchpy as rp to give us statistics such as Measures of Central Tendency; Mean, Median, and Mode and Measures of Dispersion; Range, Variance, Standard Deviation."
      ],
      "metadata": {
        "id": "AGrw8JJ2ZWqD"
      }
    },
    {
      "cell_type": "code",
      "source": [
        "# To show descriptive statistics from researchpy\n",
        "\n",
        "!pip install researchpy\n",
        "import researchpy as rp"
      ],
      "metadata": {
        "colab": {
          "base_uri": "https://localhost:8080/"
        },
        "id": "txCNk2b7XKVE",
        "outputId": "7f1cbc83-ea74-4e1b-982a-9f8131abc091"
      },
      "execution_count": null,
      "outputs": [
        {
          "output_type": "stream",
          "name": "stdout",
          "text": [
            "Requirement already satisfied: researchpy in /usr/local/lib/python3.7/dist-packages (0.3.2)\n",
            "Requirement already satisfied: numpy in /usr/local/lib/python3.7/dist-packages (from researchpy) (1.21.5)\n",
            "Requirement already satisfied: scipy in /usr/local/lib/python3.7/dist-packages (from researchpy) (1.4.1)\n",
            "Requirement already satisfied: statsmodels in /usr/local/lib/python3.7/dist-packages (from researchpy) (0.10.2)\n",
            "Requirement already satisfied: patsy in /usr/local/lib/python3.7/dist-packages (from researchpy) (0.5.2)\n",
            "Requirement already satisfied: pandas in /usr/local/lib/python3.7/dist-packages (from researchpy) (1.3.5)\n",
            "Requirement already satisfied: pytz>=2017.3 in /usr/local/lib/python3.7/dist-packages (from pandas->researchpy) (2018.9)\n",
            "Requirement already satisfied: python-dateutil>=2.7.3 in /usr/local/lib/python3.7/dist-packages (from pandas->researchpy) (2.8.2)\n",
            "Requirement already satisfied: six>=1.5 in /usr/local/lib/python3.7/dist-packages (from python-dateutil>=2.7.3->pandas->researchpy) (1.15.0)\n"
          ]
        }
      ]
    },
    {
      "cell_type": "markdown",
      "source": [
        "####Descriptive statistics"
      ],
      "metadata": {
        "id": "T7wA9XU7etal"
      }
    },
    {
      "cell_type": "code",
      "source": [
        "#we check the statistics of people with bank accounts in relation to Age\n",
        "\n",
        "rp.summary_cont(Finance.groupby(\"Has a Bank account\")['Respondent Age'])\n",
        "\n",
        "#people with bank accounts \n",
        "  # the mean is 39.5929 \n",
        "  # the standard deviation is 16.8364\n",
        "  #\n",
        "\n",
        "#people without bank accounts \n",
        "  #  the mean is 38.6605\n",
        "  #  the standard deviation is 14.3316\n",
        "\n",
        "#We confirm this from the value counts performed where we figured that \n",
        "#most people did not have bank accounts compared to those who had bank accounts.\n",
        "# The larger the count the lower the mean and vice versa."
      ],
      "metadata": {
        "colab": {
          "base_uri": "https://localhost:8080/",
          "height": 178
        },
        "id": "qBa8pdevXqZa",
        "outputId": "f23f7ea1-6634-43d6-81e4-ec32b06a61c3"
      },
      "execution_count": null,
      "outputs": [
        {
          "output_type": "stream",
          "name": "stdout",
          "text": [
            "\n",
            "\n"
          ]
        },
        {
          "output_type": "execute_result",
          "data": {
            "text/plain": [
              "                        N     Mean       SD      SE  95% Conf.  Interval\n",
              "Has a Bank account                                                      \n",
              "No                  20201  38.6605  16.8364  0.1185    38.4283   38.8927\n",
              "Yes                  3309  39.5929  14.3316  0.2491    39.1044   40.0814"
            ],
            "text/html": [
              "\n",
              "  <div id=\"df-8a82fad4-45bf-46be-a451-030d195de065\">\n",
              "    <div class=\"colab-df-container\">\n",
              "      <div>\n",
              "<style scoped>\n",
              "    .dataframe tbody tr th:only-of-type {\n",
              "        vertical-align: middle;\n",
              "    }\n",
              "\n",
              "    .dataframe tbody tr th {\n",
              "        vertical-align: top;\n",
              "    }\n",
              "\n",
              "    .dataframe thead th {\n",
              "        text-align: right;\n",
              "    }\n",
              "</style>\n",
              "<table border=\"1\" class=\"dataframe\">\n",
              "  <thead>\n",
              "    <tr style=\"text-align: right;\">\n",
              "      <th></th>\n",
              "      <th>N</th>\n",
              "      <th>Mean</th>\n",
              "      <th>SD</th>\n",
              "      <th>SE</th>\n",
              "      <th>95% Conf.</th>\n",
              "      <th>Interval</th>\n",
              "    </tr>\n",
              "    <tr>\n",
              "      <th>Has a Bank account</th>\n",
              "      <th></th>\n",
              "      <th></th>\n",
              "      <th></th>\n",
              "      <th></th>\n",
              "      <th></th>\n",
              "      <th></th>\n",
              "    </tr>\n",
              "  </thead>\n",
              "  <tbody>\n",
              "    <tr>\n",
              "      <th>No</th>\n",
              "      <td>20201</td>\n",
              "      <td>38.6605</td>\n",
              "      <td>16.8364</td>\n",
              "      <td>0.1185</td>\n",
              "      <td>38.4283</td>\n",
              "      <td>38.8927</td>\n",
              "    </tr>\n",
              "    <tr>\n",
              "      <th>Yes</th>\n",
              "      <td>3309</td>\n",
              "      <td>39.5929</td>\n",
              "      <td>14.3316</td>\n",
              "      <td>0.2491</td>\n",
              "      <td>39.1044</td>\n",
              "      <td>40.0814</td>\n",
              "    </tr>\n",
              "  </tbody>\n",
              "</table>\n",
              "</div>\n",
              "      <button class=\"colab-df-convert\" onclick=\"convertToInteractive('df-8a82fad4-45bf-46be-a451-030d195de065')\"\n",
              "              title=\"Convert this dataframe to an interactive table.\"\n",
              "              style=\"display:none;\">\n",
              "        \n",
              "  <svg xmlns=\"http://www.w3.org/2000/svg\" height=\"24px\"viewBox=\"0 0 24 24\"\n",
              "       width=\"24px\">\n",
              "    <path d=\"M0 0h24v24H0V0z\" fill=\"none\"/>\n",
              "    <path d=\"M18.56 5.44l.94 2.06.94-2.06 2.06-.94-2.06-.94-.94-2.06-.94 2.06-2.06.94zm-11 1L8.5 8.5l.94-2.06 2.06-.94-2.06-.94L8.5 2.5l-.94 2.06-2.06.94zm10 10l.94 2.06.94-2.06 2.06-.94-2.06-.94-.94-2.06-.94 2.06-2.06.94z\"/><path d=\"M17.41 7.96l-1.37-1.37c-.4-.4-.92-.59-1.43-.59-.52 0-1.04.2-1.43.59L10.3 9.45l-7.72 7.72c-.78.78-.78 2.05 0 2.83L4 21.41c.39.39.9.59 1.41.59.51 0 1.02-.2 1.41-.59l7.78-7.78 2.81-2.81c.8-.78.8-2.07 0-2.86zM5.41 20L4 18.59l7.72-7.72 1.47 1.35L5.41 20z\"/>\n",
              "  </svg>\n",
              "      </button>\n",
              "      \n",
              "  <style>\n",
              "    .colab-df-container {\n",
              "      display:flex;\n",
              "      flex-wrap:wrap;\n",
              "      gap: 12px;\n",
              "    }\n",
              "\n",
              "    .colab-df-convert {\n",
              "      background-color: #E8F0FE;\n",
              "      border: none;\n",
              "      border-radius: 50%;\n",
              "      cursor: pointer;\n",
              "      display: none;\n",
              "      fill: #1967D2;\n",
              "      height: 32px;\n",
              "      padding: 0 0 0 0;\n",
              "      width: 32px;\n",
              "    }\n",
              "\n",
              "    .colab-df-convert:hover {\n",
              "      background-color: #E2EBFA;\n",
              "      box-shadow: 0px 1px 2px rgba(60, 64, 67, 0.3), 0px 1px 3px 1px rgba(60, 64, 67, 0.15);\n",
              "      fill: #174EA6;\n",
              "    }\n",
              "\n",
              "    [theme=dark] .colab-df-convert {\n",
              "      background-color: #3B4455;\n",
              "      fill: #D2E3FC;\n",
              "    }\n",
              "\n",
              "    [theme=dark] .colab-df-convert:hover {\n",
              "      background-color: #434B5C;\n",
              "      box-shadow: 0px 1px 3px 1px rgba(0, 0, 0, 0.15);\n",
              "      filter: drop-shadow(0px 1px 2px rgba(0, 0, 0, 0.3));\n",
              "      fill: #FFFFFF;\n",
              "    }\n",
              "  </style>\n",
              "\n",
              "      <script>\n",
              "        const buttonEl =\n",
              "          document.querySelector('#df-8a82fad4-45bf-46be-a451-030d195de065 button.colab-df-convert');\n",
              "        buttonEl.style.display =\n",
              "          google.colab.kernel.accessAllowed ? 'block' : 'none';\n",
              "\n",
              "        async function convertToInteractive(key) {\n",
              "          const element = document.querySelector('#df-8a82fad4-45bf-46be-a451-030d195de065');\n",
              "          const dataTable =\n",
              "            await google.colab.kernel.invokeFunction('convertToInteractive',\n",
              "                                                     [key], {});\n",
              "          if (!dataTable) return;\n",
              "\n",
              "          const docLinkHtml = 'Like what you see? Visit the ' +\n",
              "            '<a target=\"_blank\" href=https://colab.research.google.com/notebooks/data_table.ipynb>data table notebook</a>'\n",
              "            + ' to learn more about interactive tables.';\n",
              "          element.innerHTML = '';\n",
              "          dataTable['output_type'] = 'display_data';\n",
              "          await google.colab.output.renderOutput(dataTable, element);\n",
              "          const docLink = document.createElement('div');\n",
              "          docLink.innerHTML = docLinkHtml;\n",
              "          element.appendChild(docLink);\n",
              "        }\n",
              "      </script>\n",
              "    </div>\n",
              "  </div>\n",
              "  "
            ]
          },
          "metadata": {},
          "execution_count": 84
        }
      ]
    },
    {
      "cell_type": "code",
      "source": [
        "#we check the statistics of people with bank accounts in relation to household size\n",
        "\n",
        "rp.summary_cont(Finance.groupby(\"Has a Bank account\")['household_size'])\n",
        "\n",
        "\n",
        "#people with bank accounts\n",
        "  # the mean of household size is 3.5582\n",
        "  # the standard deviation is 2.2157\n",
        "  # \n",
        "\n",
        "#people without bank accounts \n",
        "  #  the mean of household size is 3.7010\n",
        "  #  the standard deviation is \t2.2892\n",
        " "
      ],
      "metadata": {
        "colab": {
          "base_uri": "https://localhost:8080/",
          "height": 178
        },
        "id": "FlpI2jB5c8np",
        "outputId": "4683fdca-30c8-4fb5-8d4e-029e569ff4c3"
      },
      "execution_count": null,
      "outputs": [
        {
          "output_type": "stream",
          "name": "stdout",
          "text": [
            "\n",
            "\n"
          ]
        },
        {
          "output_type": "execute_result",
          "data": {
            "text/plain": [
              "                        N    Mean      SD      SE  95% Conf.  Interval\n",
              "Has a Bank account                                                    \n",
              "No                  20201  3.7010  2.2892  0.0161     3.6694    3.7325\n",
              "Yes                  3309  3.5582  2.2157  0.0385     3.4827    3.6337"
            ],
            "text/html": [
              "\n",
              "  <div id=\"df-c30de9d2-6543-49ba-91ab-ccb5a0c316f5\">\n",
              "    <div class=\"colab-df-container\">\n",
              "      <div>\n",
              "<style scoped>\n",
              "    .dataframe tbody tr th:only-of-type {\n",
              "        vertical-align: middle;\n",
              "    }\n",
              "\n",
              "    .dataframe tbody tr th {\n",
              "        vertical-align: top;\n",
              "    }\n",
              "\n",
              "    .dataframe thead th {\n",
              "        text-align: right;\n",
              "    }\n",
              "</style>\n",
              "<table border=\"1\" class=\"dataframe\">\n",
              "  <thead>\n",
              "    <tr style=\"text-align: right;\">\n",
              "      <th></th>\n",
              "      <th>N</th>\n",
              "      <th>Mean</th>\n",
              "      <th>SD</th>\n",
              "      <th>SE</th>\n",
              "      <th>95% Conf.</th>\n",
              "      <th>Interval</th>\n",
              "    </tr>\n",
              "    <tr>\n",
              "      <th>Has a Bank account</th>\n",
              "      <th></th>\n",
              "      <th></th>\n",
              "      <th></th>\n",
              "      <th></th>\n",
              "      <th></th>\n",
              "      <th></th>\n",
              "    </tr>\n",
              "  </thead>\n",
              "  <tbody>\n",
              "    <tr>\n",
              "      <th>No</th>\n",
              "      <td>20201</td>\n",
              "      <td>3.7010</td>\n",
              "      <td>2.2892</td>\n",
              "      <td>0.0161</td>\n",
              "      <td>3.6694</td>\n",
              "      <td>3.7325</td>\n",
              "    </tr>\n",
              "    <tr>\n",
              "      <th>Yes</th>\n",
              "      <td>3309</td>\n",
              "      <td>3.5582</td>\n",
              "      <td>2.2157</td>\n",
              "      <td>0.0385</td>\n",
              "      <td>3.4827</td>\n",
              "      <td>3.6337</td>\n",
              "    </tr>\n",
              "  </tbody>\n",
              "</table>\n",
              "</div>\n",
              "      <button class=\"colab-df-convert\" onclick=\"convertToInteractive('df-c30de9d2-6543-49ba-91ab-ccb5a0c316f5')\"\n",
              "              title=\"Convert this dataframe to an interactive table.\"\n",
              "              style=\"display:none;\">\n",
              "        \n",
              "  <svg xmlns=\"http://www.w3.org/2000/svg\" height=\"24px\"viewBox=\"0 0 24 24\"\n",
              "       width=\"24px\">\n",
              "    <path d=\"M0 0h24v24H0V0z\" fill=\"none\"/>\n",
              "    <path d=\"M18.56 5.44l.94 2.06.94-2.06 2.06-.94-2.06-.94-.94-2.06-.94 2.06-2.06.94zm-11 1L8.5 8.5l.94-2.06 2.06-.94-2.06-.94L8.5 2.5l-.94 2.06-2.06.94zm10 10l.94 2.06.94-2.06 2.06-.94-2.06-.94-.94-2.06-.94 2.06-2.06.94z\"/><path d=\"M17.41 7.96l-1.37-1.37c-.4-.4-.92-.59-1.43-.59-.52 0-1.04.2-1.43.59L10.3 9.45l-7.72 7.72c-.78.78-.78 2.05 0 2.83L4 21.41c.39.39.9.59 1.41.59.51 0 1.02-.2 1.41-.59l7.78-7.78 2.81-2.81c.8-.78.8-2.07 0-2.86zM5.41 20L4 18.59l7.72-7.72 1.47 1.35L5.41 20z\"/>\n",
              "  </svg>\n",
              "      </button>\n",
              "      \n",
              "  <style>\n",
              "    .colab-df-container {\n",
              "      display:flex;\n",
              "      flex-wrap:wrap;\n",
              "      gap: 12px;\n",
              "    }\n",
              "\n",
              "    .colab-df-convert {\n",
              "      background-color: #E8F0FE;\n",
              "      border: none;\n",
              "      border-radius: 50%;\n",
              "      cursor: pointer;\n",
              "      display: none;\n",
              "      fill: #1967D2;\n",
              "      height: 32px;\n",
              "      padding: 0 0 0 0;\n",
              "      width: 32px;\n",
              "    }\n",
              "\n",
              "    .colab-df-convert:hover {\n",
              "      background-color: #E2EBFA;\n",
              "      box-shadow: 0px 1px 2px rgba(60, 64, 67, 0.3), 0px 1px 3px 1px rgba(60, 64, 67, 0.15);\n",
              "      fill: #174EA6;\n",
              "    }\n",
              "\n",
              "    [theme=dark] .colab-df-convert {\n",
              "      background-color: #3B4455;\n",
              "      fill: #D2E3FC;\n",
              "    }\n",
              "\n",
              "    [theme=dark] .colab-df-convert:hover {\n",
              "      background-color: #434B5C;\n",
              "      box-shadow: 0px 1px 3px 1px rgba(0, 0, 0, 0.15);\n",
              "      filter: drop-shadow(0px 1px 2px rgba(0, 0, 0, 0.3));\n",
              "      fill: #FFFFFF;\n",
              "    }\n",
              "  </style>\n",
              "\n",
              "      <script>\n",
              "        const buttonEl =\n",
              "          document.querySelector('#df-c30de9d2-6543-49ba-91ab-ccb5a0c316f5 button.colab-df-convert');\n",
              "        buttonEl.style.display =\n",
              "          google.colab.kernel.accessAllowed ? 'block' : 'none';\n",
              "\n",
              "        async function convertToInteractive(key) {\n",
              "          const element = document.querySelector('#df-c30de9d2-6543-49ba-91ab-ccb5a0c316f5');\n",
              "          const dataTable =\n",
              "            await google.colab.kernel.invokeFunction('convertToInteractive',\n",
              "                                                     [key], {});\n",
              "          if (!dataTable) return;\n",
              "\n",
              "          const docLinkHtml = 'Like what you see? Visit the ' +\n",
              "            '<a target=\"_blank\" href=https://colab.research.google.com/notebooks/data_table.ipynb>data table notebook</a>'\n",
              "            + ' to learn more about interactive tables.';\n",
              "          element.innerHTML = '';\n",
              "          dataTable['output_type'] = 'display_data';\n",
              "          await google.colab.output.renderOutput(dataTable, element);\n",
              "          const docLink = document.createElement('div');\n",
              "          docLink.innerHTML = docLinkHtml;\n",
              "          element.appendChild(docLink);\n",
              "        }\n",
              "      </script>\n",
              "    </div>\n",
              "  </div>\n",
              "  "
            ]
          },
          "metadata": {},
          "execution_count": 85
        }
      ]
    },
    {
      "cell_type": "markdown",
      "source": [
        "##### we create a duplicate dataframe which is equal to the initial dataframe and rename it. We will use this to introduce label encoders. "
      ],
      "metadata": {
        "id": "QSqUvjrfeGqM"
      }
    },
    {
      "cell_type": "markdown",
      "source": [
        "######This will help in converting datatypes for categorical fields so numerical values so that it is machine readable."
      ],
      "metadata": {
        "id": "eIeS1Lm7emqw"
      }
    },
    {
      "cell_type": "code",
      "source": [
        "FinanceCopy= Finance.copy()\n",
        "FinanceCopy.head(3)"
      ],
      "metadata": {
        "colab": {
          "base_uri": "https://localhost:8080/",
          "height": 294
        },
        "id": "Fyqhjw5hmeaw",
        "outputId": "3bfb802a-1621-43fb-fffc-b4598a126869"
      },
      "execution_count": null,
      "outputs": [
        {
          "output_type": "execute_result",
          "data": {
            "text/plain": [
              "  country  year Has a Bank account Type of Location Cell Phone Access  \\\n",
              "0   Kenya  2018                Yes            Rural               Yes   \n",
              "1   Kenya  2018                 No            Rural                No   \n",
              "2   Kenya  2018                Yes            Urban               Yes   \n",
              "\n",
              "   household_size  Respondent Age gender_of_respondent  \\\n",
              "0               3              24               Female   \n",
              "1               5              70               Female   \n",
              "2               5              26                 Male   \n",
              "\n",
              "  The Relationship with head           marital_status  \\\n",
              "0                     Spouse  Married/Living together   \n",
              "1          Head of Household                  Widowed   \n",
              "2             Other relative     Single/Never Married   \n",
              "\n",
              "               Level of Educuation           Type of Job  \n",
              "0              Secondary education         Self employed  \n",
              "1              No formal education  Government Dependent  \n",
              "2  Vocational/Specialised training         Self employed  "
            ],
            "text/html": [
              "\n",
              "  <div id=\"df-34cff3a9-a990-4282-9bd0-b3da172e6108\">\n",
              "    <div class=\"colab-df-container\">\n",
              "      <div>\n",
              "<style scoped>\n",
              "    .dataframe tbody tr th:only-of-type {\n",
              "        vertical-align: middle;\n",
              "    }\n",
              "\n",
              "    .dataframe tbody tr th {\n",
              "        vertical-align: top;\n",
              "    }\n",
              "\n",
              "    .dataframe thead th {\n",
              "        text-align: right;\n",
              "    }\n",
              "</style>\n",
              "<table border=\"1\" class=\"dataframe\">\n",
              "  <thead>\n",
              "    <tr style=\"text-align: right;\">\n",
              "      <th></th>\n",
              "      <th>country</th>\n",
              "      <th>year</th>\n",
              "      <th>Has a Bank account</th>\n",
              "      <th>Type of Location</th>\n",
              "      <th>Cell Phone Access</th>\n",
              "      <th>household_size</th>\n",
              "      <th>Respondent Age</th>\n",
              "      <th>gender_of_respondent</th>\n",
              "      <th>The Relationship with head</th>\n",
              "      <th>marital_status</th>\n",
              "      <th>Level of Educuation</th>\n",
              "      <th>Type of Job</th>\n",
              "    </tr>\n",
              "  </thead>\n",
              "  <tbody>\n",
              "    <tr>\n",
              "      <th>0</th>\n",
              "      <td>Kenya</td>\n",
              "      <td>2018</td>\n",
              "      <td>Yes</td>\n",
              "      <td>Rural</td>\n",
              "      <td>Yes</td>\n",
              "      <td>3</td>\n",
              "      <td>24</td>\n",
              "      <td>Female</td>\n",
              "      <td>Spouse</td>\n",
              "      <td>Married/Living together</td>\n",
              "      <td>Secondary education</td>\n",
              "      <td>Self employed</td>\n",
              "    </tr>\n",
              "    <tr>\n",
              "      <th>1</th>\n",
              "      <td>Kenya</td>\n",
              "      <td>2018</td>\n",
              "      <td>No</td>\n",
              "      <td>Rural</td>\n",
              "      <td>No</td>\n",
              "      <td>5</td>\n",
              "      <td>70</td>\n",
              "      <td>Female</td>\n",
              "      <td>Head of Household</td>\n",
              "      <td>Widowed</td>\n",
              "      <td>No formal education</td>\n",
              "      <td>Government Dependent</td>\n",
              "    </tr>\n",
              "    <tr>\n",
              "      <th>2</th>\n",
              "      <td>Kenya</td>\n",
              "      <td>2018</td>\n",
              "      <td>Yes</td>\n",
              "      <td>Urban</td>\n",
              "      <td>Yes</td>\n",
              "      <td>5</td>\n",
              "      <td>26</td>\n",
              "      <td>Male</td>\n",
              "      <td>Other relative</td>\n",
              "      <td>Single/Never Married</td>\n",
              "      <td>Vocational/Specialised training</td>\n",
              "      <td>Self employed</td>\n",
              "    </tr>\n",
              "  </tbody>\n",
              "</table>\n",
              "</div>\n",
              "      <button class=\"colab-df-convert\" onclick=\"convertToInteractive('df-34cff3a9-a990-4282-9bd0-b3da172e6108')\"\n",
              "              title=\"Convert this dataframe to an interactive table.\"\n",
              "              style=\"display:none;\">\n",
              "        \n",
              "  <svg xmlns=\"http://www.w3.org/2000/svg\" height=\"24px\"viewBox=\"0 0 24 24\"\n",
              "       width=\"24px\">\n",
              "    <path d=\"M0 0h24v24H0V0z\" fill=\"none\"/>\n",
              "    <path d=\"M18.56 5.44l.94 2.06.94-2.06 2.06-.94-2.06-.94-.94-2.06-.94 2.06-2.06.94zm-11 1L8.5 8.5l.94-2.06 2.06-.94-2.06-.94L8.5 2.5l-.94 2.06-2.06.94zm10 10l.94 2.06.94-2.06 2.06-.94-2.06-.94-.94-2.06-.94 2.06-2.06.94z\"/><path d=\"M17.41 7.96l-1.37-1.37c-.4-.4-.92-.59-1.43-.59-.52 0-1.04.2-1.43.59L10.3 9.45l-7.72 7.72c-.78.78-.78 2.05 0 2.83L4 21.41c.39.39.9.59 1.41.59.51 0 1.02-.2 1.41-.59l7.78-7.78 2.81-2.81c.8-.78.8-2.07 0-2.86zM5.41 20L4 18.59l7.72-7.72 1.47 1.35L5.41 20z\"/>\n",
              "  </svg>\n",
              "      </button>\n",
              "      \n",
              "  <style>\n",
              "    .colab-df-container {\n",
              "      display:flex;\n",
              "      flex-wrap:wrap;\n",
              "      gap: 12px;\n",
              "    }\n",
              "\n",
              "    .colab-df-convert {\n",
              "      background-color: #E8F0FE;\n",
              "      border: none;\n",
              "      border-radius: 50%;\n",
              "      cursor: pointer;\n",
              "      display: none;\n",
              "      fill: #1967D2;\n",
              "      height: 32px;\n",
              "      padding: 0 0 0 0;\n",
              "      width: 32px;\n",
              "    }\n",
              "\n",
              "    .colab-df-convert:hover {\n",
              "      background-color: #E2EBFA;\n",
              "      box-shadow: 0px 1px 2px rgba(60, 64, 67, 0.3), 0px 1px 3px 1px rgba(60, 64, 67, 0.15);\n",
              "      fill: #174EA6;\n",
              "    }\n",
              "\n",
              "    [theme=dark] .colab-df-convert {\n",
              "      background-color: #3B4455;\n",
              "      fill: #D2E3FC;\n",
              "    }\n",
              "\n",
              "    [theme=dark] .colab-df-convert:hover {\n",
              "      background-color: #434B5C;\n",
              "      box-shadow: 0px 1px 3px 1px rgba(0, 0, 0, 0.15);\n",
              "      filter: drop-shadow(0px 1px 2px rgba(0, 0, 0, 0.3));\n",
              "      fill: #FFFFFF;\n",
              "    }\n",
              "  </style>\n",
              "\n",
              "      <script>\n",
              "        const buttonEl =\n",
              "          document.querySelector('#df-34cff3a9-a990-4282-9bd0-b3da172e6108 button.colab-df-convert');\n",
              "        buttonEl.style.display =\n",
              "          google.colab.kernel.accessAllowed ? 'block' : 'none';\n",
              "\n",
              "        async function convertToInteractive(key) {\n",
              "          const element = document.querySelector('#df-34cff3a9-a990-4282-9bd0-b3da172e6108');\n",
              "          const dataTable =\n",
              "            await google.colab.kernel.invokeFunction('convertToInteractive',\n",
              "                                                     [key], {});\n",
              "          if (!dataTable) return;\n",
              "\n",
              "          const docLinkHtml = 'Like what you see? Visit the ' +\n",
              "            '<a target=\"_blank\" href=https://colab.research.google.com/notebooks/data_table.ipynb>data table notebook</a>'\n",
              "            + ' to learn more about interactive tables.';\n",
              "          element.innerHTML = '';\n",
              "          dataTable['output_type'] = 'display_data';\n",
              "          await google.colab.output.renderOutput(dataTable, element);\n",
              "          const docLink = document.createElement('div');\n",
              "          docLink.innerHTML = docLinkHtml;\n",
              "          element.appendChild(docLink);\n",
              "        }\n",
              "      </script>\n",
              "    </div>\n",
              "  </div>\n",
              "  "
            ]
          },
          "metadata": {},
          "execution_count": 86
        }
      ]
    },
    {
      "cell_type": "code",
      "source": [
        "from sklearn import preprocessing\n",
        "label_encoder = preprocessing.LabelEncoder()\n"
      ],
      "metadata": {
        "id": "NEyETkCVrJG2"
      },
      "execution_count": null,
      "outputs": []
    },
    {
      "cell_type": "code",
      "source": [
        "from sklearn.preprocessing import LabelEncoder\n",
        "lb=LabelEncoder()\n",
        "\n",
        "FinanceCopy['country']=lb.fit_transform(FinanceCopy['country'].astype(str))\n",
        "FinanceCopy['year']=lb.fit_transform(FinanceCopy['year'].astype(str))\n",
        "FinanceCopy['Has a Bank account']=lb.fit_transform(FinanceCopy['Has a Bank account'].astype(str))\n",
        "FinanceCopy['Type of Location']=lb.fit_transform(FinanceCopy['Type of Location'].astype(str))\n",
        "FinanceCopy['Cell Phone Access']=lb.fit_transform(FinanceCopy['Cell Phone Access'].astype(str))\n",
        "FinanceCopy['gender_of_respondent']=lb.fit_transform(FinanceCopy['gender_of_respondent'].astype(str))\n",
        "FinanceCopy['The Relationship with head']=lb.fit_transform(FinanceCopy['The Relationship with head'].astype(str))\n",
        "FinanceCopy['marital_status']=lb.fit_transform(FinanceCopy['marital_status'].astype(str))\n",
        "FinanceCopy['Level of Educuation']=lb.fit_transform(FinanceCopy['Level of Educuation'].astype(str))\n",
        "FinanceCopy['Type of Job']=lb.fit_transform(FinanceCopy['Type of Job'].astype(str))\n"
      ],
      "metadata": {
        "id": "jtGgThUgd7rP"
      },
      "execution_count": null,
      "outputs": []
    },
    {
      "cell_type": "code",
      "source": [
        "FinanceCopy.head(3)"
      ],
      "metadata": {
        "colab": {
          "base_uri": "https://localhost:8080/",
          "height": 242
        },
        "id": "JNOcohlkwJKD",
        "outputId": "6ac5e200-ef17-4d69-aff0-8bfeba31a6bf"
      },
      "execution_count": null,
      "outputs": [
        {
          "output_type": "execute_result",
          "data": {
            "text/plain": [
              "   country  year  Has a Bank account  Type of Location  Cell Phone Access  \\\n",
              "0        0     2                   1                 0                  1   \n",
              "1        0     2                   0                 0                  0   \n",
              "2        0     2                   1                 1                  1   \n",
              "\n",
              "   household_size  Respondent Age  gender_of_respondent  \\\n",
              "0               3              24                     0   \n",
              "1               5              70                     0   \n",
              "2               5              26                     1   \n",
              "\n",
              "   The Relationship with head  marital_status  Level of Educuation  \\\n",
              "0                           5               2                    4   \n",
              "1                           1               4                    1   \n",
              "2                           3               3                    6   \n",
              "\n",
              "   Type of Job  \n",
              "0            9  \n",
              "1            4  \n",
              "2            9  "
            ],
            "text/html": [
              "\n",
              "  <div id=\"df-e23e2208-c88f-4060-918a-462cbc15e850\">\n",
              "    <div class=\"colab-df-container\">\n",
              "      <div>\n",
              "<style scoped>\n",
              "    .dataframe tbody tr th:only-of-type {\n",
              "        vertical-align: middle;\n",
              "    }\n",
              "\n",
              "    .dataframe tbody tr th {\n",
              "        vertical-align: top;\n",
              "    }\n",
              "\n",
              "    .dataframe thead th {\n",
              "        text-align: right;\n",
              "    }\n",
              "</style>\n",
              "<table border=\"1\" class=\"dataframe\">\n",
              "  <thead>\n",
              "    <tr style=\"text-align: right;\">\n",
              "      <th></th>\n",
              "      <th>country</th>\n",
              "      <th>year</th>\n",
              "      <th>Has a Bank account</th>\n",
              "      <th>Type of Location</th>\n",
              "      <th>Cell Phone Access</th>\n",
              "      <th>household_size</th>\n",
              "      <th>Respondent Age</th>\n",
              "      <th>gender_of_respondent</th>\n",
              "      <th>The Relationship with head</th>\n",
              "      <th>marital_status</th>\n",
              "      <th>Level of Educuation</th>\n",
              "      <th>Type of Job</th>\n",
              "    </tr>\n",
              "  </thead>\n",
              "  <tbody>\n",
              "    <tr>\n",
              "      <th>0</th>\n",
              "      <td>0</td>\n",
              "      <td>2</td>\n",
              "      <td>1</td>\n",
              "      <td>0</td>\n",
              "      <td>1</td>\n",
              "      <td>3</td>\n",
              "      <td>24</td>\n",
              "      <td>0</td>\n",
              "      <td>5</td>\n",
              "      <td>2</td>\n",
              "      <td>4</td>\n",
              "      <td>9</td>\n",
              "    </tr>\n",
              "    <tr>\n",
              "      <th>1</th>\n",
              "      <td>0</td>\n",
              "      <td>2</td>\n",
              "      <td>0</td>\n",
              "      <td>0</td>\n",
              "      <td>0</td>\n",
              "      <td>5</td>\n",
              "      <td>70</td>\n",
              "      <td>0</td>\n",
              "      <td>1</td>\n",
              "      <td>4</td>\n",
              "      <td>1</td>\n",
              "      <td>4</td>\n",
              "    </tr>\n",
              "    <tr>\n",
              "      <th>2</th>\n",
              "      <td>0</td>\n",
              "      <td>2</td>\n",
              "      <td>1</td>\n",
              "      <td>1</td>\n",
              "      <td>1</td>\n",
              "      <td>5</td>\n",
              "      <td>26</td>\n",
              "      <td>1</td>\n",
              "      <td>3</td>\n",
              "      <td>3</td>\n",
              "      <td>6</td>\n",
              "      <td>9</td>\n",
              "    </tr>\n",
              "  </tbody>\n",
              "</table>\n",
              "</div>\n",
              "      <button class=\"colab-df-convert\" onclick=\"convertToInteractive('df-e23e2208-c88f-4060-918a-462cbc15e850')\"\n",
              "              title=\"Convert this dataframe to an interactive table.\"\n",
              "              style=\"display:none;\">\n",
              "        \n",
              "  <svg xmlns=\"http://www.w3.org/2000/svg\" height=\"24px\"viewBox=\"0 0 24 24\"\n",
              "       width=\"24px\">\n",
              "    <path d=\"M0 0h24v24H0V0z\" fill=\"none\"/>\n",
              "    <path d=\"M18.56 5.44l.94 2.06.94-2.06 2.06-.94-2.06-.94-.94-2.06-.94 2.06-2.06.94zm-11 1L8.5 8.5l.94-2.06 2.06-.94-2.06-.94L8.5 2.5l-.94 2.06-2.06.94zm10 10l.94 2.06.94-2.06 2.06-.94-2.06-.94-.94-2.06-.94 2.06-2.06.94z\"/><path d=\"M17.41 7.96l-1.37-1.37c-.4-.4-.92-.59-1.43-.59-.52 0-1.04.2-1.43.59L10.3 9.45l-7.72 7.72c-.78.78-.78 2.05 0 2.83L4 21.41c.39.39.9.59 1.41.59.51 0 1.02-.2 1.41-.59l7.78-7.78 2.81-2.81c.8-.78.8-2.07 0-2.86zM5.41 20L4 18.59l7.72-7.72 1.47 1.35L5.41 20z\"/>\n",
              "  </svg>\n",
              "      </button>\n",
              "      \n",
              "  <style>\n",
              "    .colab-df-container {\n",
              "      display:flex;\n",
              "      flex-wrap:wrap;\n",
              "      gap: 12px;\n",
              "    }\n",
              "\n",
              "    .colab-df-convert {\n",
              "      background-color: #E8F0FE;\n",
              "      border: none;\n",
              "      border-radius: 50%;\n",
              "      cursor: pointer;\n",
              "      display: none;\n",
              "      fill: #1967D2;\n",
              "      height: 32px;\n",
              "      padding: 0 0 0 0;\n",
              "      width: 32px;\n",
              "    }\n",
              "\n",
              "    .colab-df-convert:hover {\n",
              "      background-color: #E2EBFA;\n",
              "      box-shadow: 0px 1px 2px rgba(60, 64, 67, 0.3), 0px 1px 3px 1px rgba(60, 64, 67, 0.15);\n",
              "      fill: #174EA6;\n",
              "    }\n",
              "\n",
              "    [theme=dark] .colab-df-convert {\n",
              "      background-color: #3B4455;\n",
              "      fill: #D2E3FC;\n",
              "    }\n",
              "\n",
              "    [theme=dark] .colab-df-convert:hover {\n",
              "      background-color: #434B5C;\n",
              "      box-shadow: 0px 1px 3px 1px rgba(0, 0, 0, 0.15);\n",
              "      filter: drop-shadow(0px 1px 2px rgba(0, 0, 0, 0.3));\n",
              "      fill: #FFFFFF;\n",
              "    }\n",
              "  </style>\n",
              "\n",
              "      <script>\n",
              "        const buttonEl =\n",
              "          document.querySelector('#df-e23e2208-c88f-4060-918a-462cbc15e850 button.colab-df-convert');\n",
              "        buttonEl.style.display =\n",
              "          google.colab.kernel.accessAllowed ? 'block' : 'none';\n",
              "\n",
              "        async function convertToInteractive(key) {\n",
              "          const element = document.querySelector('#df-e23e2208-c88f-4060-918a-462cbc15e850');\n",
              "          const dataTable =\n",
              "            await google.colab.kernel.invokeFunction('convertToInteractive',\n",
              "                                                     [key], {});\n",
              "          if (!dataTable) return;\n",
              "\n",
              "          const docLinkHtml = 'Like what you see? Visit the ' +\n",
              "            '<a target=\"_blank\" href=https://colab.research.google.com/notebooks/data_table.ipynb>data table notebook</a>'\n",
              "            + ' to learn more about interactive tables.';\n",
              "          element.innerHTML = '';\n",
              "          dataTable['output_type'] = 'display_data';\n",
              "          await google.colab.output.renderOutput(dataTable, element);\n",
              "          const docLink = document.createElement('div');\n",
              "          docLink.innerHTML = docLinkHtml;\n",
              "          element.appendChild(docLink);\n",
              "        }\n",
              "      </script>\n",
              "    </div>\n",
              "  </div>\n",
              "  "
            ]
          },
          "metadata": {},
          "execution_count": 89
        }
      ]
    },
    {
      "cell_type": "code",
      "source": [
        "FinanceCopy.dtypes"
      ],
      "metadata": {
        "colab": {
          "base_uri": "https://localhost:8080/"
        },
        "id": "j1h3PG15x3RN",
        "outputId": "61725cb4-737a-401f-c3b5-2673a51a5396"
      },
      "execution_count": null,
      "outputs": [
        {
          "output_type": "execute_result",
          "data": {
            "text/plain": [
              "country                       int64\n",
              "year                          int64\n",
              "Has a Bank account            int64\n",
              "Type of Location              int64\n",
              "Cell Phone Access             int64\n",
              "household_size                int64\n",
              "Respondent Age                int64\n",
              "gender_of_respondent          int64\n",
              "The Relationship with head    int64\n",
              "marital_status                int64\n",
              "Level of Educuation           int64\n",
              "Type of Job                   int64\n",
              "dtype: object"
            ]
          },
          "metadata": {},
          "execution_count": 90
        }
      ]
    },
    {
      "cell_type": "code",
      "source": [
        "print(FinanceCopy.value_counts())"
      ],
      "metadata": {
        "colab": {
          "base_uri": "https://localhost:8080/"
        },
        "id": "vRfpl47vPSzm",
        "outputId": "19dcb836-5300-483b-ac6a-a53890db4ae7"
      },
      "execution_count": null,
      "outputs": [
        {
          "output_type": "stream",
          "name": "stdout",
          "text": [
            "country  year  Has a Bank account  Type of Location  Cell Phone Access  household_size  Respondent Age  gender_of_respondent  The Relationship with head  marital_status  Level of Educuation  Type of Job\n",
            "2        1     0                   1                 0                  2               30              0                     5                           3               3                    9              24\n",
            "                                                     1                  2               36              1                     1                           3               3                    9              22\n",
            "                                                     0                  2               35              0                     5                           3               3                    9              18\n",
            "                                                     1                  2               35              1                     1                           3               3                    9              18\n",
            "                                                                                        45              1                     1                           3               3                    9              18\n",
            "                                                                                                                                                                                                              ..\n",
            "1        0     0                   0                 0                  5               26              1                     1                           0               3                    5               1\n",
            "                                                                                        27              1                     0                           3               1                    5               1\n",
            "                                                                                                                              1                           2               1                    5               1\n",
            "                                                                                        28              0                     1                           2               3                    5               1\n",
            "3        2     1                   1                 1                  17              70              0                     1                           4               3                    7               1\n",
            "Length: 19103, dtype: int64\n"
          ]
        }
      ]
    },
    {
      "cell_type": "code",
      "source": [
        "FinanceCopy.columns"
      ],
      "metadata": {
        "colab": {
          "base_uri": "https://localhost:8080/"
        },
        "id": "iVeHMw5BOGLS",
        "outputId": "fff7e8f3-cc8c-4b9e-ae64-f147a21bcf5c"
      },
      "execution_count": null,
      "outputs": [
        {
          "output_type": "execute_result",
          "data": {
            "text/plain": [
              "Index(['country', 'year', 'Has a Bank account', 'Type of Location',\n",
              "       'Cell Phone Access', 'household_size', 'Respondent Age',\n",
              "       'gender_of_respondent', 'The Relationship with head', 'marital_status',\n",
              "       'Level of Educuation', 'Type of Job'],\n",
              "      dtype='object')"
            ]
          },
          "metadata": {},
          "execution_count": 91
        }
      ]
    },
    {
      "cell_type": "markdown",
      "source": [
        "#### For the next part of the analysis, we find the correlation of people having bank accounts with other factors, categorical factors"
      ],
      "metadata": {
        "id": "LiHXtUAoO3Nj"
      }
    },
    {
      "cell_type": "code",
      "source": [
        "# correlation coefficient of bank account with type of location\n",
        "\n",
        "FinanceCopy[\"Has a Bank account\"].corr(FinanceCopy[\"Type of Location\"]) \n",
        "\n",
        "# the correlation coefficient is 0.08822043009506352 which is a weak correlation\n",
        "# meaning there is a small relationship between bank account ownership and the location of the respondents"
      ],
      "metadata": {
        "colab": {
          "base_uri": "https://localhost:8080/"
        },
        "id": "pp3w8lovN24F",
        "outputId": "ee7dfc8d-c51d-42a3-82d1-f90af6034e71"
      },
      "execution_count": null,
      "outputs": [
        {
          "output_type": "execute_result",
          "data": {
            "text/plain": [
              "0.08822043009506352"
            ]
          },
          "metadata": {},
          "execution_count": 93
        }
      ]
    },
    {
      "cell_type": "code",
      "source": [
        "## correlation coefficient of bank account with type of location\n",
        "\n",
        "FinanceCopy[\"Has a Bank account\"].corr(FinanceCopy[\"Cell Phone Access\"]) \n",
        "\n",
        "## the correlation coefficient is 0.2093128385186521 which is a slightly strong correlation\n",
        "# meaning there is a high relationship between bank account ownership and phone accesibility"
      ],
      "metadata": {
        "colab": {
          "base_uri": "https://localhost:8080/"
        },
        "id": "-WL7SxdyN2qw",
        "outputId": "0bccc936-6f18-4a17-dbec-5fe65e6b043b"
      },
      "execution_count": null,
      "outputs": [
        {
          "output_type": "execute_result",
          "data": {
            "text/plain": [
              "0.2093128385186521"
            ]
          },
          "metadata": {},
          "execution_count": 106
        }
      ]
    },
    {
      "cell_type": "code",
      "source": [
        "## correlation coefficient of bank account with type of location\n",
        "\n",
        "FinanceCopy[\"Has a Bank account\"].corr(FinanceCopy[\"gender_of_respondent\"]) \n",
        "\n",
        "## the correlation coefficient is 0.11640955638014157 which is a weak correlation\n",
        "# meaning there is a small relationship between bank account ownership and the gender of the respondents"
      ],
      "metadata": {
        "colab": {
          "base_uri": "https://localhost:8080/"
        },
        "id": "mAsWMDwyN2el",
        "outputId": "51649c62-a721-405e-a57e-95c83d52b75f"
      },
      "execution_count": null,
      "outputs": [
        {
          "output_type": "execute_result",
          "data": {
            "text/plain": [
              "0.11640955638014157"
            ]
          },
          "metadata": {},
          "execution_count": 101
        }
      ]
    },
    {
      "cell_type": "code",
      "source": [
        "## correlation coefficient of bank account with type of location\n",
        "\n",
        "FinanceCopy[\"Has a Bank account\"].corr(FinanceCopy[\"The Relationship with head\"]) \n",
        "\n",
        "### the correlation coefficient is -0.07065819970759188 which is a weak correlation\n",
        "# meaning there is a small relationship between bank account ownership and the head of the household of the respondents"
      ],
      "metadata": {
        "colab": {
          "base_uri": "https://localhost:8080/"
        },
        "id": "jUeFu-jLN2Sn",
        "outputId": "7b356f4a-c4dc-466b-c636-e514d5769874"
      },
      "execution_count": null,
      "outputs": [
        {
          "output_type": "execute_result",
          "data": {
            "text/plain": [
              "-0.07065819970759188"
            ]
          },
          "metadata": {},
          "execution_count": 102
        }
      ]
    },
    {
      "cell_type": "code",
      "source": [
        "## correlation coefficient of bank account with type of location\n",
        "\n",
        "FinanceCopy[\"Has a Bank account\"].corr(FinanceCopy[\"marital_status\"]) \n",
        "\n",
        "### the correlation coefficient is -0.03847334967895363 which is a weak correlation\n",
        "# meaning there is a small relationship between bank account ownership and the marital status of the respondents"
      ],
      "metadata": {
        "colab": {
          "base_uri": "https://localhost:8080/"
        },
        "id": "o2DDQx7-N1V4",
        "outputId": "13394fac-5574-4899-fb39-d71fa28b6828"
      },
      "execution_count": null,
      "outputs": [
        {
          "output_type": "execute_result",
          "data": {
            "text/plain": [
              "-0.03847334967895363"
            ]
          },
          "metadata": {},
          "execution_count": 103
        }
      ]
    },
    {
      "cell_type": "code",
      "source": [
        "## correlation coefficient of bank account with type of location\n",
        "\n",
        "FinanceCopy[\"Has a Bank account\"].corr(FinanceCopy[\"Level of Educuation\"]) \n",
        "\n",
        "### the correlation coefficient is 0.3225312270069615 which is a strong correlation\n",
        "# meaning there is a strong relationship between bank account ownership and the level of education of the respondents"
      ],
      "metadata": {
        "colab": {
          "base_uri": "https://localhost:8080/"
        },
        "id": "R9fVVZsLOqAS",
        "outputId": "11edd777-2fe9-4212-f8f4-31beadfabea1"
      },
      "execution_count": null,
      "outputs": [
        {
          "output_type": "execute_result",
          "data": {
            "text/plain": [
              "0.3225312270069615"
            ]
          },
          "metadata": {},
          "execution_count": 104
        }
      ]
    },
    {
      "cell_type": "code",
      "source": [
        "## correlation coefficient of bank account with type of location\n",
        "\n",
        "FinanceCopy[\"Has a Bank account\"].corr(FinanceCopy[\"Type of Job\"]) \n",
        "\n",
        "### the correlation coefficient is -0.06422559167813516 which is a weak correlation\n",
        "# meaning there is a small relationship between bank account ownership and the type of the respondents"
      ],
      "metadata": {
        "colab": {
          "base_uri": "https://localhost:8080/"
        },
        "id": "jfz--IK0OpkJ",
        "outputId": "389b5b98-d493-4a63-97d6-8a199a17836a"
      },
      "execution_count": null,
      "outputs": [
        {
          "output_type": "execute_result",
          "data": {
            "text/plain": [
              "-0.06422559167813516"
            ]
          },
          "metadata": {},
          "execution_count": 107
        }
      ]
    },
    {
      "cell_type": "markdown",
      "source": [
        "#####We have been able to identify that cell phone acces and level of education have strong correlationships with bank account  ownership."
      ],
      "metadata": {
        "id": "4xIT2hxyXdif"
      }
    },
    {
      "cell_type": "code",
      "source": [
        "# Importing Numpy\n",
        "import numpy as np\n",
        "\n",
        "# Importing Pandas\n",
        "import pandas as pd\n",
        "\n",
        "# Importing Matplotlib\n",
        "import matplotlib.pyplot as plt\n",
        "\n",
        "# Importing Seaborn\n",
        "import seaborn as sns"
      ],
      "metadata": {
        "id": "ucnVtduDaxI9"
      },
      "execution_count": 108,
      "outputs": []
    },
    {
      "cell_type": "code",
      "source": [
        "# To see the distribution of phone accesibility to bank account ownership;\n",
        "# we compare our converted numericals to the observations from the previous dataframe\n",
        "\n",
        "phone_access_bankAcc = FinanceCopy[\"Cell Phone Access\"].value_counts()\n",
        "phone_access_bankAcc\n",
        "\n",
        "#1 - has cell phone access \n",
        "#0 - without cell phone acess "
      ],
      "metadata": {
        "id": "ogLrYqzOXdLU",
        "colab": {
          "base_uri": "https://localhost:8080/"
        },
        "outputId": "19884b51-bb91-439f-bc4c-063179e7f3a0"
      },
      "execution_count": 114,
      "outputs": [
        {
          "output_type": "execute_result",
          "data": {
            "text/plain": [
              "1    17454\n",
              "0     6056\n",
              "Name: Cell Phone Access, dtype: int64"
            ]
          },
          "metadata": {},
          "execution_count": 114
        }
      ]
    },
    {
      "cell_type": "code",
      "source": [
        "# from initial dataframe\n",
        "Finance[\"Cell Phone Access\"].value_counts()\n",
        "\n"
      ],
      "metadata": {
        "colab": {
          "base_uri": "https://localhost:8080/"
        },
        "id": "EEcc_KodcGqY",
        "outputId": "23ea6d06-594c-4455-d571-763f09bc04d0"
      },
      "execution_count": 115,
      "outputs": [
        {
          "output_type": "execute_result",
          "data": {
            "text/plain": [
              "Yes    17454\n",
              "No      6056\n",
              "Name: Cell Phone Access, dtype: int64"
            ]
          },
          "metadata": {},
          "execution_count": 115
        }
      ]
    },
    {
      "cell_type": "code",
      "source": [
        "# showing this output on a countplot\n",
        "\n",
        "ax = sns.countplot('Cell Phone Access', hue=\"Has a Bank account\", data=Finance)\n",
        "ax.set(ylabel = 'own Bank Account',\n",
        "       title = 'Cell Phone Access by Bank Account')"
      ],
      "metadata": {
        "colab": {
          "base_uri": "https://localhost:8080/",
          "height": 384
        },
        "id": "PpXNk-SrigDZ",
        "outputId": "9e8acbb7-bbf4-479c-a296-bc4c50b3a3a9"
      },
      "execution_count": 131,
      "outputs": [
        {
          "output_type": "stream",
          "name": "stderr",
          "text": [
            "/usr/local/lib/python3.7/dist-packages/seaborn/_decorators.py:43: FutureWarning: Pass the following variable as a keyword arg: x. From version 0.12, the only valid positional argument will be `data`, and passing other arguments without an explicit keyword will result in an error or misinterpretation.\n",
            "  FutureWarning\n"
          ]
        },
        {
          "output_type": "execute_result",
          "data": {
            "text/plain": [
              "[Text(0, 0.5, 'own Bank Account'),\n",
              " Text(0.5, 1.0, 'Cell Phone Access by Bank Account')]"
            ]
          },
          "metadata": {},
          "execution_count": 131
        },
        {
          "output_type": "display_data",
          "data": {
            "text/plain": [
              "<Figure size 432x288 with 1 Axes>"
            ],
            "image/png": "[encoded data removed]"
          },
          "metadata": {
            "needs_background": "light"
          }
        }
      ]
    },
    {
      "cell_type": "markdown",
      "source": [
        "##### Individuals with cell phone access were observed to have bank accounts"
      ],
      "metadata": {
        "id": "u6RM8hYWcOq0"
      }
    },
    {
      "cell_type": "code",
      "source": [
        "# To see the distribution of Level of Educuation to bank account ownership;\n",
        "# we compare our converted numericals to the observations from the previous dataframe\n",
        "\n",
        "Education_bankAcc = FinanceCopy[\"Level of Educuation\"].value_counts()\n",
        "Education_bankAcc\n",
        "\n",
        "# Individuals whose highest level of education was primary school were seen to have more bank accounts.\n",
        " # followed by individuals who had no formal education, then secondary education, tertiary education \n",
        " #and lastly vocational/specialised training"
      ],
      "metadata": {
        "id": "nS6VHtagXc8N",
        "colab": {
          "base_uri": "https://localhost:8080/"
        },
        "outputId": "ad672117-ec92-4b38-bb4b-a2f0b58719b8"
      },
      "execution_count": 117,
      "outputs": [
        {
          "output_type": "execute_result",
          "data": {
            "text/plain": [
              "3    12799\n",
              "1     4499\n",
              "4     4218\n",
              "5     1156\n",
              "6      803\n",
              "0       27\n",
              "2        8\n",
              "Name: Level of Educuation, dtype: int64"
            ]
          },
          "metadata": {},
          "execution_count": 117
        }
      ]
    },
    {
      "cell_type": "code",
      "source": [
        "# from initial dataframe\n",
        "Finance[\"Level of Educuation\"].value_counts()"
      ],
      "metadata": {
        "colab": {
          "base_uri": "https://localhost:8080/"
        },
        "id": "s64dXUkncfL-",
        "outputId": "870bbeea-d65f-40da-dcb1-aa91747e0bd8"
      },
      "execution_count": 116,
      "outputs": [
        {
          "output_type": "execute_result",
          "data": {
            "text/plain": [
              "Primary education                  12799\n",
              "No formal education                 4499\n",
              "Secondary education                 4218\n",
              "Tertiary education                  1156\n",
              "Vocational/Specialised training      803\n",
              "6                                     27\n",
              "Other/Dont know/RTA                    8\n",
              "Name: Level of Educuation, dtype: int64"
            ]
          },
          "metadata": {},
          "execution_count": 116
        }
      ]
    },
    {
      "cell_type": "code",
      "source": [
        "ax = sns.countplot('Has a Bank account', hue=\"Level of Educuation\", data=Finance)\n",
        "ax.set(ylabel = 'own Bank Account',\n",
        "       title = 'Own Bank Account VS Level of Education')"
      ],
      "metadata": {
        "colab": {
          "base_uri": "https://localhost:8080/",
          "height": 384
        },
        "id": "qucRi2vljECr",
        "outputId": "0593f89d-9f03-4a93-f181-690ffa1ebd93"
      },
      "execution_count": 133,
      "outputs": [
        {
          "output_type": "stream",
          "name": "stderr",
          "text": [
            "/usr/local/lib/python3.7/dist-packages/seaborn/_decorators.py:43: FutureWarning: Pass the following variable as a keyword arg: x. From version 0.12, the only valid positional argument will be `data`, and passing other arguments without an explicit keyword will result in an error or misinterpretation.\n",
            "  FutureWarning\n"
          ]
        },
        {
          "output_type": "execute_result",
          "data": {
            "text/plain": [
              "[Text(0, 0.5, 'own Bank Account'),\n",
              " Text(0.5, 1.0, 'Own Bank Account VS Level of Education')]"
            ]
          },
          "metadata": {},
          "execution_count": 133
        },
        {
          "output_type": "display_data",
          "data": {
            "text/plain": [
              "<Figure size 432x288 with 1 Axes>"
            ],
            "image/png": "[encoded data removed]"
          },
          "metadata": {
            "needs_background": "light"
          }
        }
      ]
    },
    {
      "cell_type": "markdown",
      "source": [
        "##### Individuals whose highest level of education was primary school were seen to have more bank accounts.\n",
        " "
      ],
      "metadata": {
        "id": "RC4mybbYcqzt"
      }
    },
    {
      "cell_type": "markdown",
      "source": [
        "###3. Multivariate Data Analysis"
      ],
      "metadata": {
        "id": "KiBGYuJOae26"
      }
    },
    {
      "cell_type": "code",
      "source": [
        "FinanceCopy.head(3)"
      ],
      "metadata": {
        "id": "XpJIhCTnwdl_",
        "colab": {
          "base_uri": "https://localhost:8080/",
          "height": 242
        },
        "outputId": "e0a071b8-37fd-4871-ec6e-4475727ecbff"
      },
      "execution_count": 118,
      "outputs": [
        {
          "output_type": "execute_result",
          "data": {
            "text/plain": [
              "   country  year  Has a Bank account  Type of Location  Cell Phone Access  \\\n",
              "0        0     2                   1                 0                  1   \n",
              "1        0     2                   0                 0                  0   \n",
              "2        0     2                   1                 1                  1   \n",
              "\n",
              "   household_size  Respondent Age  gender_of_respondent  \\\n",
              "0               3              24                     0   \n",
              "1               5              70                     0   \n",
              "2               5              26                     1   \n",
              "\n",
              "   The Relationship with head  marital_status  Level of Educuation  \\\n",
              "0                           5               2                    4   \n",
              "1                           1               4                    1   \n",
              "2                           3               3                    6   \n",
              "\n",
              "   Type of Job  \n",
              "0            9  \n",
              "1            4  \n",
              "2            9  "
            ],
            "text/html": [
              "\n",
              "  <div id=\"df-000631b1-f4f3-4a0f-bbe2-b1945a16ab4e\">\n",
              "    <div class=\"colab-df-container\">\n",
              "      <div>\n",
              "<style scoped>\n",
              "    .dataframe tbody tr th:only-of-type {\n",
              "        vertical-align: middle;\n",
              "    }\n",
              "\n",
              "    .dataframe tbody tr th {\n",
              "        vertical-align: top;\n",
              "    }\n",
              "\n",
              "    .dataframe thead th {\n",
              "        text-align: right;\n",
              "    }\n",
              "</style>\n",
              "<table border=\"1\" class=\"dataframe\">\n",
              "  <thead>\n",
              "    <tr style=\"text-align: right;\">\n",
              "      <th></th>\n",
              "      <th>country</th>\n",
              "      <th>year</th>\n",
              "      <th>Has a Bank account</th>\n",
              "      <th>Type of Location</th>\n",
              "      <th>Cell Phone Access</th>\n",
              "      <th>household_size</th>\n",
              "      <th>Respondent Age</th>\n",
              "      <th>gender_of_respondent</th>\n",
              "      <th>The Relationship with head</th>\n",
              "      <th>marital_status</th>\n",
              "      <th>Level of Educuation</th>\n",
              "      <th>Type of Job</th>\n",
              "    </tr>\n",
              "  </thead>\n",
              "  <tbody>\n",
              "    <tr>\n",
              "      <th>0</th>\n",
              "      <td>0</td>\n",
              "      <td>2</td>\n",
              "      <td>1</td>\n",
              "      <td>0</td>\n",
              "      <td>1</td>\n",
              "      <td>3</td>\n",
              "      <td>24</td>\n",
              "      <td>0</td>\n",
              "      <td>5</td>\n",
              "      <td>2</td>\n",
              "      <td>4</td>\n",
              "      <td>9</td>\n",
              "    </tr>\n",
              "    <tr>\n",
              "      <th>1</th>\n",
              "      <td>0</td>\n",
              "      <td>2</td>\n",
              "      <td>0</td>\n",
              "      <td>0</td>\n",
              "      <td>0</td>\n",
              "      <td>5</td>\n",
              "      <td>70</td>\n",
              "      <td>0</td>\n",
              "      <td>1</td>\n",
              "      <td>4</td>\n",
              "      <td>1</td>\n",
              "      <td>4</td>\n",
              "    </tr>\n",
              "    <tr>\n",
              "      <th>2</th>\n",
              "      <td>0</td>\n",
              "      <td>2</td>\n",
              "      <td>1</td>\n",
              "      <td>1</td>\n",
              "      <td>1</td>\n",
              "      <td>5</td>\n",
              "      <td>26</td>\n",
              "      <td>1</td>\n",
              "      <td>3</td>\n",
              "      <td>3</td>\n",
              "      <td>6</td>\n",
              "      <td>9</td>\n",
              "    </tr>\n",
              "  </tbody>\n",
              "</table>\n",
              "</div>\n",
              "      <button class=\"colab-df-convert\" onclick=\"convertToInteractive('df-000631b1-f4f3-4a0f-bbe2-b1945a16ab4e')\"\n",
              "              title=\"Convert this dataframe to an interactive table.\"\n",
              "              style=\"display:none;\">\n",
              "        \n",
              "  <svg xmlns=\"http://www.w3.org/2000/svg\" height=\"24px\"viewBox=\"0 0 24 24\"\n",
              "       width=\"24px\">\n",
              "    <path d=\"M0 0h24v24H0V0z\" fill=\"none\"/>\n",
              "    <path d=\"M18.56 5.44l.94 2.06.94-2.06 2.06-.94-2.06-.94-.94-2.06-.94 2.06-2.06.94zm-11 1L8.5 8.5l.94-2.06 2.06-.94-2.06-.94L8.5 2.5l-.94 2.06-2.06.94zm10 10l.94 2.06.94-2.06 2.06-.94-2.06-.94-.94-2.06-.94 2.06-2.06.94z\"/><path d=\"M17.41 7.96l-1.37-1.37c-.4-.4-.92-.59-1.43-.59-.52 0-1.04.2-1.43.59L10.3 9.45l-7.72 7.72c-.78.78-.78 2.05 0 2.83L4 21.41c.39.39.9.59 1.41.59.51 0 1.02-.2 1.41-.59l7.78-7.78 2.81-2.81c.8-.78.8-2.07 0-2.86zM5.41 20L4 18.59l7.72-7.72 1.47 1.35L5.41 20z\"/>\n",
              "  </svg>\n",
              "      </button>\n",
              "      \n",
              "  <style>\n",
              "    .colab-df-container {\n",
              "      display:flex;\n",
              "      flex-wrap:wrap;\n",
              "      gap: 12px;\n",
              "    }\n",
              "\n",
              "    .colab-df-convert {\n",
              "      background-color: #E8F0FE;\n",
              "      border: none;\n",
              "      border-radius: 50%;\n",
              "      cursor: pointer;\n",
              "      display: none;\n",
              "      fill: #1967D2;\n",
              "      height: 32px;\n",
              "      padding: 0 0 0 0;\n",
              "      width: 32px;\n",
              "    }\n",
              "\n",
              "    .colab-df-convert:hover {\n",
              "      background-color: #E2EBFA;\n",
              "      box-shadow: 0px 1px 2px rgba(60, 64, 67, 0.3), 0px 1px 3px 1px rgba(60, 64, 67, 0.15);\n",
              "      fill: #174EA6;\n",
              "    }\n",
              "\n",
              "    [theme=dark] .colab-df-convert {\n",
              "      background-color: #3B4455;\n",
              "      fill: #D2E3FC;\n",
              "    }\n",
              "\n",
              "    [theme=dark] .colab-df-convert:hover {\n",
              "      background-color: #434B5C;\n",
              "      box-shadow: 0px 1px 3px 1px rgba(0, 0, 0, 0.15);\n",
              "      filter: drop-shadow(0px 1px 2px rgba(0, 0, 0, 0.3));\n",
              "      fill: #FFFFFF;\n",
              "    }\n",
              "  </style>\n",
              "\n",
              "      <script>\n",
              "        const buttonEl =\n",
              "          document.querySelector('#df-000631b1-f4f3-4a0f-bbe2-b1945a16ab4e button.colab-df-convert');\n",
              "        buttonEl.style.display =\n",
              "          google.colab.kernel.accessAllowed ? 'block' : 'none';\n",
              "\n",
              "        async function convertToInteractive(key) {\n",
              "          const element = document.querySelector('#df-000631b1-f4f3-4a0f-bbe2-b1945a16ab4e');\n",
              "          const dataTable =\n",
              "            await google.colab.kernel.invokeFunction('convertToInteractive',\n",
              "                                                     [key], {});\n",
              "          if (!dataTable) return;\n",
              "\n",
              "          const docLinkHtml = 'Like what you see? Visit the ' +\n",
              "            '<a target=\"_blank\" href=https://colab.research.google.com/notebooks/data_table.ipynb>data table notebook</a>'\n",
              "            + ' to learn more about interactive tables.';\n",
              "          element.innerHTML = '';\n",
              "          dataTable['output_type'] = 'display_data';\n",
              "          await google.colab.output.renderOutput(dataTable, element);\n",
              "          const docLink = document.createElement('div');\n",
              "          docLink.innerHTML = docLinkHtml;\n",
              "          element.appendChild(docLink);\n",
              "        }\n",
              "      </script>\n",
              "    </div>\n",
              "  </div>\n",
              "  "
            ]
          },
          "metadata": {},
          "execution_count": 118
        }
      ]
    },
    {
      "cell_type": "markdown",
      "source": [
        "####Reduction Technique"
      ],
      "metadata": {
        "id": "LPpB7AFzl-RI"
      }
    },
    {
      "cell_type": "markdown",
      "source": [
        "######We will use the PCA- Principal Component Analysis for this reduction"
      ],
      "metadata": {
        "id": "Y2_912_plwIO"
      }
    },
    {
      "cell_type": "code",
      "source": [
        "# assigning variables to the column \"Has a Bank account\" of our dataframes\n",
        "\n",
        "y = FinanceCopy.drop('Has a Bank account', 1) \n",
        "z = FinanceCopy['Has a Bank account']"
      ],
      "metadata": {
        "colab": {
          "base_uri": "https://localhost:8080/"
        },
        "id": "dcAIn_CAmKBw",
        "outputId": "d7d46bf2-5332-477a-8032-8d62fb4e3f9e"
      },
      "execution_count": 174,
      "outputs": [
        {
          "output_type": "stream",
          "name": "stderr",
          "text": [
            "/usr/local/lib/python3.7/dist-packages/ipykernel_launcher.py:1: FutureWarning: In a future version of pandas all arguments of DataFrame.drop except for the argument 'labels' will be keyword-only\n",
            "  \"\"\"Entry point for launching an IPython kernel.\n"
          ]
        }
      ]
    },
    {
      "cell_type": "code",
      "source": [
        "#importing traintest that will be used to split our dataset\n",
        "from sklearn.model_selection import train_test_split\n",
        "\n",
        "y_train, y_test, z_train, z_test = train_test_split(y, z, test_size=0.2, random_state=0)"
      ],
      "metadata": {
        "id": "ApjrEkIswdW4"
      },
      "execution_count": 175,
      "outputs": []
    },
    {
      "cell_type": "code",
      "source": [
        "# Importing the standard scaler to standardize our dataset features \n",
        "\n",
        "from sklearn.preprocessing import StandardScaler\n",
        "\n",
        "sc = StandardScaler()\n",
        "y_train = sc.fit_transform(y_train)\n",
        "y_test = sc.transform(y_test)"
      ],
      "metadata": {
        "id": "XBtx6_OCwdFL"
      },
      "execution_count": 177,
      "outputs": []
    },
    {
      "cell_type": "code",
      "source": [
        "# Importing pca\n",
        "\n",
        "from sklearn.decomposition import PCA\n",
        "\n",
        "pca = PCA()\n",
        "y_train = pca.fit_transform(y_train)\n",
        "y_test = pca.transform(y_test)"
      ],
      "metadata": {
        "id": "mCEyI3TgnKVd"
      },
      "execution_count": 178,
      "outputs": []
    },
    {
      "cell_type": "code",
      "source": [
        "#to get the ration of variance or eigenvalue / total eigenvalues\n",
        "explained_variance = pca.explained_variance_ratio_"
      ],
      "metadata": {
        "id": "-Nj3ADZcwczc"
      },
      "execution_count": 179,
      "outputs": []
    },
    {
      "cell_type": "code",
      "source": [
        "explained_variance"
      ],
      "metadata": {
        "colab": {
          "base_uri": "https://localhost:8080/"
        },
        "id": "ZEy5otLusWXp",
        "outputId": "02adcb17-1228-498f-bc2f-1db4f6950c8b"
      },
      "execution_count": 180,
      "outputs": [
        {
          "output_type": "execute_result",
          "data": {
            "text/plain": [
              "array([0.17607136, 0.15312237, 0.14116906, 0.10123237, 0.08909297,\n",
              "       0.07661425, 0.06891536, 0.06065916, 0.05164713, 0.0424769 ,\n",
              "       0.03899909])"
            ]
          },
          "metadata": {},
          "execution_count": 180
        }
      ]
    },
    {
      "cell_type": "code",
      "source": [
        "pca = PCA(n_components=1)\n",
        "y_train = pca.fit_transform(y_train)\n",
        "y_test = pca.transform(y_test)"
      ],
      "metadata": {
        "id": "a5Tr2oVlQmqZ"
      },
      "execution_count": 181,
      "outputs": []
    },
    {
      "cell_type": "code",
      "source": [
        "# computing the cumulative sum of the eigen values\n",
        "\n",
        "cs_eigenvalues = np.cumsum(explained_variance)"
      ],
      "metadata": {
        "id": "WJI_-KfqvQha"
      },
      "execution_count": 187,
      "outputs": []
    },
    {
      "cell_type": "code",
      "source": [
        "# Creating a bar plot\n",
        "#\n",
        "plt.bar(range(0,len(explained_variance)), explained_variance, alpha=0.5, align='center', label='Individual explained variance')\n",
        "plt.step(range(0,len(cs_eigenvalues)), cs_eigenvalues, where='mid',label='Cumulative explained variance')\n",
        "plt.ylabel('Explained variance ratio')\n",
        "plt.xlabel('Principal component index')\n",
        "plt.legend(loc='best')\n",
        "plt.tight_layout()\n",
        "plt.show()"
      ],
      "metadata": {
        "colab": {
          "base_uri": "https://localhost:8080/",
          "height": 297
        },
        "id": "M6VIW6HfvNIc",
        "outputId": "3bb9d16b-cba9-4db9-c60a-ba1fb7138d79"
      },
      "execution_count": 188,
      "outputs": [
        {
          "output_type": "display_data",
          "data": {
            "text/plain": [
              "<Figure size 432x288 with 1 Axes>"
            ],
            "image/png": "[encoded data removed]"
          },
          "metadata": {
            "needs_background": "light"
          }
        }
      ]
    },
    {
      "cell_type": "code",
      "source": [
        "# For prediction, we import  random forest classifier\n",
        "\n",
        "from sklearn.ensemble import RandomForestClassifier\n",
        "\n",
        "classifier = RandomForestClassifier(max_depth=2, random_state=0)\n",
        "classifier.fit(y_train, z_train)\n",
        "\n",
        "# Predicting variable y\n",
        "z_pred = classifier.predict(y_test)"
      ],
      "metadata": {
        "id": "XgAr2cGcQmd9"
      },
      "execution_count": 190,
      "outputs": []
    },
    {
      "cell_type": "code",
      "source": [
        "from sklearn.metrics import confusion_matrix\n",
        "from sklearn.metrics import accuracy_score\n"
      ],
      "metadata": {
        "id": "tKwWn_BcnjwQ"
      },
      "execution_count": 191,
      "outputs": []
    },
    {
      "cell_type": "markdown",
      "source": [
        "######Testing the predintion accuracy"
      ],
      "metadata": {
        "id": "Kd6XGqiAwNsu"
      }
    },
    {
      "cell_type": "code",
      "source": [
        "\n",
        "#predicting z values\n",
        "#cs_eigenvalues = confusion_matrix(y_test, z_pred)\n",
        "\n",
        "print(cs_eigenvalues)\n",
        "print('Accuracy' , accuracy_score(z_test, z_pred))"
      ],
      "metadata": {
        "colab": {
          "base_uri": "https://localhost:8080/"
        },
        "id": "c77TyBJIu_zA",
        "outputId": "4e93acb0-d9fc-4cd5-d16d-574b1812ef82"
      },
      "execution_count": 194,
      "outputs": [
        {
          "output_type": "stream",
          "name": "stdout",
          "text": [
            "[0.17607136 0.32919372 0.47036279 0.57159515 0.66068812 0.73730237\n",
            " 0.80621773 0.86687689 0.91852402 0.96100091 1.        ]\n",
            "Accuracy 0.858570820927265\n"
          ]
        }
      ]
    },
    {
      "cell_type": "markdown",
      "source": [
        "###### The prediction accuracy is 85.85%\n"
      ],
      "metadata": {
        "id": "ak3OFRn1wePe"
      }
    },
    {
      "cell_type": "code",
      "source": [
        "sns.barplot(x= 'country', y ='Cell Phone Access',data= FinanceCopy, hue='Has a Bank account')\n",
        "\n",
        "#ountry label 0 is Kenya, 1 is Rwanda, 2 is Tanzania and lastly 3 is Uganda\n",
        "# meaning Kenya has the highest number of cell phone access followed by Rwanda, then Tanzania and lastly Uganda"
      ],
      "metadata": {
        "colab": {
          "base_uri": "https://localhost:8080/",
          "height": 296
        },
        "id": "zsHFK1KQnsi0",
        "outputId": "40ed1369-b1b8-4f94-94d1-4a0dd20d48df"
      },
      "execution_count": 195,
      "outputs": [
        {
          "output_type": "execute_result",
          "data": {
            "text/plain": [
              "<matplotlib.axes._subplots.AxesSubplot at 0x7f3bd4c52a50>"
            ]
          },
          "metadata": {},
          "execution_count": 195
        },
        {
          "output_type": "display_data",
          "data": {
            "text/plain": [
              "<Figure size 432x288 with 1 Axes>"
            ],
            "image/png": "[encoded data removed]"
          },
          "metadata": {
            "needs_background": "light"
          }
        }
      ]
    },
    {
      "cell_type": "code",
      "source": [
        ""
      ],
      "metadata": {
        "id": "FkDf-Aq_xlvk"
      },
      "execution_count": null,
      "outputs": []
    },
    {
      "cell_type": "code",
      "source": [
        "FinanceCopy.columns"
      ],
      "metadata": {
        "colab": {
          "base_uri": "https://localhost:8080/"
        },
        "id": "kenKOPhFn-mv",
        "outputId": "cbf72e2e-eb07-4a2d-ae11-570604a6cb28"
      },
      "execution_count": 150,
      "outputs": [
        {
          "output_type": "execute_result",
          "data": {
            "text/plain": [
              "Index(['country', 'year', 'Has a Bank account', 'Type of Location',\n",
              "       'Cell Phone Access', 'household_size', 'Respondent Age',\n",
              "       'gender_of_respondent', 'The Relationship with head', 'marital_status',\n",
              "       'Level of Educuation', 'Type of Job'],\n",
              "      dtype='object')"
            ]
          },
          "metadata": {},
          "execution_count": 150
        }
      ]
    },
    {
      "cell_type": "code",
      "source": [
        "sns.barplot(x= 'country', y ='Level of Educuation',data= FinanceCopy, hue='Has a Bank account')\n",
        "\n",
        "#ountry label 0 is Kenya, 1 is Rwanda, 2 is Tanzania and lastly 3 is Uganda"
      ],
      "metadata": {
        "colab": {
          "base_uri": "https://localhost:8080/",
          "height": 296
        },
        "id": "WIgja0vFnsTc",
        "outputId": "1d16a176-e2f4-4a3d-9d69-cf9709c77bc2"
      },
      "execution_count": 155,
      "outputs": [
        {
          "output_type": "execute_result",
          "data": {
            "text/plain": [
              "<matplotlib.axes._subplots.AxesSubplot at 0x7f3bcf60f910>"
            ]
          },
          "metadata": {},
          "execution_count": 155
        },
        {
          "output_type": "display_data",
          "data": {
            "text/plain": [
              "<Figure size 432x288 with 1 Axes>"
            ],
            "image/png": "[encoded data removed]"
          },
          "metadata": {
            "needs_background": "light"
          }
        }
      ]
    },
    {
      "cell_type": "code",
      "source": [
        "# Decoding the Has a Bank account field \n",
        "\n",
        "FinanceCopy['Has a Bank account'].value_counts()"
      ],
      "metadata": {
        "colab": {
          "base_uri": "https://localhost:8080/"
        },
        "id": "If6TWxh7wXqB",
        "outputId": "f9a78981-f065-42df-affd-c5c8b2ccbc9b"
      },
      "execution_count": 196,
      "outputs": [
        {
          "output_type": "execute_result",
          "data": {
            "text/plain": [
              "0    20201\n",
              "1     3309\n",
              "Name: Has a Bank account, dtype: int64"
            ]
          },
          "metadata": {},
          "execution_count": 196
        }
      ]
    },
    {
      "cell_type": "code",
      "source": [
        "Finance['Has a Bank account'].value_counts()\n",
        "\n",
        "\n",
        "# 0 = No\n",
        "# 1 = Yes"
      ],
      "metadata": {
        "colab": {
          "base_uri": "https://localhost:8080/"
        },
        "id": "r1hNAxROxvvA",
        "outputId": "efcad103-0ca3-47ab-babd-0852464cd2b8"
      },
      "execution_count": 197,
      "outputs": [
        {
          "output_type": "execute_result",
          "data": {
            "text/plain": [
              "No     20201\n",
              "Yes     3309\n",
              "Name: Has a Bank account, dtype: int64"
            ]
          },
          "metadata": {},
          "execution_count": 197
        }
      ]
    },
    {
      "cell_type": "code",
      "source": [
        "# Decoding the Level of Educuation field \n",
        "\n",
        "FinanceCopy['Level of Educuation'].value_counts() "
      ],
      "metadata": {
        "colab": {
          "base_uri": "https://localhost:8080/"
        },
        "id": "O7OyCyWox5bX",
        "outputId": "bc3aaa1d-d272-4869-ec58-55ba3ec5226e"
      },
      "execution_count": 198,
      "outputs": [
        {
          "output_type": "execute_result",
          "data": {
            "text/plain": [
              "3    12799\n",
              "1     4499\n",
              "4     4218\n",
              "5     1156\n",
              "6      803\n",
              "0       27\n",
              "2        8\n",
              "Name: Level of Educuation, dtype: int64"
            ]
          },
          "metadata": {},
          "execution_count": 198
        }
      ]
    },
    {
      "cell_type": "code",
      "source": [
        "Finance['Level of Educuation'].value_counts() "
      ],
      "metadata": {
        "colab": {
          "base_uri": "https://localhost:8080/"
        },
        "id": "OMPFGmNqx5P4",
        "outputId": "2ee5a63d-07f2-449a-938c-f383060a7e0a"
      },
      "execution_count": 199,
      "outputs": [
        {
          "output_type": "execute_result",
          "data": {
            "text/plain": [
              "Primary education                  12799\n",
              "No formal education                 4499\n",
              "Secondary education                 4218\n",
              "Tertiary education                  1156\n",
              "Vocational/Specialised training      803\n",
              "6                                     27\n",
              "Other/Dont know/RTA                    8\n",
              "Name: Level of Educuation, dtype: int64"
            ]
          },
          "metadata": {},
          "execution_count": 199
        }
      ]
    },
    {
      "cell_type": "code",
      "source": [
        "### decoding the labels\n",
        "\n",
        "#0 = 6\n",
        "#1 = No formal education\n",
        "#2 = Other/Dont know/RTA\n",
        "#3 = Primary education\n",
        "#4 = Secondary education\n",
        "#5 = Tertiary education\n",
        "#6 = Vocational/Specialised training"
      ],
      "metadata": {
        "id": "iI5I7m-uymWL"
      },
      "execution_count": 201,
      "outputs": []
    },
    {
      "cell_type": "code",
      "source": [
        "FinanceCopy['country'].value_counts()"
      ],
      "metadata": {
        "colab": {
          "base_uri": "https://localhost:8080/"
        },
        "id": "PwuuS_cYnr8f",
        "outputId": "76ab9389-ac18-4987-9aca-8567c1cfa0cc"
      },
      "execution_count": 153,
      "outputs": [
        {
          "output_type": "execute_result",
          "data": {
            "text/plain": [
              "1    8735\n",
              "2    6606\n",
              "0    6068\n",
              "3    2101\n",
              "Name: country, dtype: int64"
            ]
          },
          "metadata": {},
          "execution_count": 153
        }
      ]
    },
    {
      "cell_type": "code",
      "source": [
        "Finance['country'].value_counts()"
      ],
      "metadata": {
        "colab": {
          "base_uri": "https://localhost:8080/"
        },
        "id": "I8elW_mBoV38",
        "outputId": "ad88350e-0e8c-4b7c-c0fe-1c0fad2cdd08"
      },
      "execution_count": 154,
      "outputs": [
        {
          "output_type": "execute_result",
          "data": {
            "text/plain": [
              "Rwanda      8735\n",
              "Tanzania    6606\n",
              "Kenya       6068\n",
              "Uganda      2101\n",
              "Name: country, dtype: int64"
            ]
          },
          "metadata": {},
          "execution_count": 154
        }
      ]
    },
    {
      "cell_type": "code",
      "source": [
        "## decoding country labels\n",
        "\n",
        "# 0 = Kenya\n",
        "# 1 = Rwanda\n",
        "# 2 = Tanzania\n",
        "# 3 = Uganda "
      ],
      "metadata": {
        "id": "FfaU33Cj0Prr"
      },
      "execution_count": 200,
      "outputs": []
    },
    {
      "cell_type": "markdown",
      "source": [
        "###### Country label 0 is Kenya, 1 is Rwanda, 2 is Tanzania and lastly 3 is Uganda"
      ],
      "metadata": {
        "id": "1HrhzYWoocRG"
      }
    },
    {
      "cell_type": "markdown",
      "source": [
        "##7. Implementing the solution"
      ],
      "metadata": {
        "id": "kP3Kqw6I1H15"
      }
    },
    {
      "cell_type": "code",
      "source": [
        "#Testing our solution\n",
        "# To do this, we create a new dataframe and plot a heatmap with the following fields\n",
        "\n",
        "FinanceTest = FinanceCopy[['Has a Bank account', 'Level of Educuation', 'Type of Location', \n",
        "                           'Cell Phone Access', 'gender_of_respondent', 'marital_status', 'Type of Job']]\n",
        "# previewing\n",
        "FinanceTest.head(3)"
      ],
      "metadata": {
        "colab": {
          "base_uri": "https://localhost:8080/",
          "height": 205
        },
        "id": "LAPRfSRT0lL0",
        "outputId": "c5699ddf-3be4-40b5-efe3-20b8093b6345"
      },
      "execution_count": 209,
      "outputs": [
        {
          "output_type": "execute_result",
          "data": {
            "text/plain": [
              "   Has a Bank account  Level of Educuation  Type of Location  \\\n",
              "0                   1                    4                 0   \n",
              "1                   0                    1                 0   \n",
              "2                   1                    6                 1   \n",
              "\n",
              "   Cell Phone Access  gender_of_respondent  marital_status  Type of Job  \n",
              "0                  1                     0               2            9  \n",
              "1                  0                     0               4            4  \n",
              "2                  1                     1               3            9  "
            ],
            "text/html": [
              "\n",
              "  <div id=\"df-a826fb9a-4cd6-4960-818d-3a9e12e4e88d\">\n",
              "    <div class=\"colab-df-container\">\n",
              "      <div>\n",
              "<style scoped>\n",
              "    .dataframe tbody tr th:only-of-type {\n",
              "        vertical-align: middle;\n",
              "    }\n",
              "\n",
              "    .dataframe tbody tr th {\n",
              "        vertical-align: top;\n",
              "    }\n",
              "\n",
              "    .dataframe thead th {\n",
              "        text-align: right;\n",
              "    }\n",
              "</style>\n",
              "<table border=\"1\" class=\"dataframe\">\n",
              "  <thead>\n",
              "    <tr style=\"text-align: right;\">\n",
              "      <th></th>\n",
              "      <th>Has a Bank account</th>\n",
              "      <th>Level of Educuation</th>\n",
              "      <th>Type of Location</th>\n",
              "      <th>Cell Phone Access</th>\n",
              "      <th>gender_of_respondent</th>\n",
              "      <th>marital_status</th>\n",
              "      <th>Type of Job</th>\n",
              "    </tr>\n",
              "  </thead>\n",
              "  <tbody>\n",
              "    <tr>\n",
              "      <th>0</th>\n",
              "      <td>1</td>\n",
              "      <td>4</td>\n",
              "      <td>0</td>\n",
              "      <td>1</td>\n",
              "      <td>0</td>\n",
              "      <td>2</td>\n",
              "      <td>9</td>\n",
              "    </tr>\n",
              "    <tr>\n",
              "      <th>1</th>\n",
              "      <td>0</td>\n",
              "      <td>1</td>\n",
              "      <td>0</td>\n",
              "      <td>0</td>\n",
              "      <td>0</td>\n",
              "      <td>4</td>\n",
              "      <td>4</td>\n",
              "    </tr>\n",
              "    <tr>\n",
              "      <th>2</th>\n",
              "      <td>1</td>\n",
              "      <td>6</td>\n",
              "      <td>1</td>\n",
              "      <td>1</td>\n",
              "      <td>1</td>\n",
              "      <td>3</td>\n",
              "      <td>9</td>\n",
              "    </tr>\n",
              "  </tbody>\n",
              "</table>\n",
              "</div>\n",
              "      <button class=\"colab-df-convert\" onclick=\"convertToInteractive('df-a826fb9a-4cd6-4960-818d-3a9e12e4e88d')\"\n",
              "              title=\"Convert this dataframe to an interactive table.\"\n",
              "              style=\"display:none;\">\n",
              "        \n",
              "  <svg xmlns=\"http://www.w3.org/2000/svg\" height=\"24px\"viewBox=\"0 0 24 24\"\n",
              "       width=\"24px\">\n",
              "    <path d=\"M0 0h24v24H0V0z\" fill=\"none\"/>\n",
              "    <path d=\"M18.56 5.44l.94 2.06.94-2.06 2.06-.94-2.06-.94-.94-2.06-.94 2.06-2.06.94zm-11 1L8.5 8.5l.94-2.06 2.06-.94-2.06-.94L8.5 2.5l-.94 2.06-2.06.94zm10 10l.94 2.06.94-2.06 2.06-.94-2.06-.94-.94-2.06-.94 2.06-2.06.94z\"/><path d=\"M17.41 7.96l-1.37-1.37c-.4-.4-.92-.59-1.43-.59-.52 0-1.04.2-1.43.59L10.3 9.45l-7.72 7.72c-.78.78-.78 2.05 0 2.83L4 21.41c.39.39.9.59 1.41.59.51 0 1.02-.2 1.41-.59l7.78-7.78 2.81-2.81c.8-.78.8-2.07 0-2.86zM5.41 20L4 18.59l7.72-7.72 1.47 1.35L5.41 20z\"/>\n",
              "  </svg>\n",
              "      </button>\n",
              "      \n",
              "  <style>\n",
              "    .colab-df-container {\n",
              "      display:flex;\n",
              "      flex-wrap:wrap;\n",
              "      gap: 12px;\n",
              "    }\n",
              "\n",
              "    .colab-df-convert {\n",
              "      background-color: #E8F0FE;\n",
              "      border: none;\n",
              "      border-radius: 50%;\n",
              "      cursor: pointer;\n",
              "      display: none;\n",
              "      fill: #1967D2;\n",
              "      height: 32px;\n",
              "      padding: 0 0 0 0;\n",
              "      width: 32px;\n",
              "    }\n",
              "\n",
              "    .colab-df-convert:hover {\n",
              "      background-color: #E2EBFA;\n",
              "      box-shadow: 0px 1px 2px rgba(60, 64, 67, 0.3), 0px 1px 3px 1px rgba(60, 64, 67, 0.15);\n",
              "      fill: #174EA6;\n",
              "    }\n",
              "\n",
              "    [theme=dark] .colab-df-convert {\n",
              "      background-color: #3B4455;\n",
              "      fill: #D2E3FC;\n",
              "    }\n",
              "\n",
              "    [theme=dark] .colab-df-convert:hover {\n",
              "      background-color: #434B5C;\n",
              "      box-shadow: 0px 1px 3px 1px rgba(0, 0, 0, 0.15);\n",
              "      filter: drop-shadow(0px 1px 2px rgba(0, 0, 0, 0.3));\n",
              "      fill: #FFFFFF;\n",
              "    }\n",
              "  </style>\n",
              "\n",
              "      <script>\n",
              "        const buttonEl =\n",
              "          document.querySelector('#df-a826fb9a-4cd6-4960-818d-3a9e12e4e88d button.colab-df-convert');\n",
              "        buttonEl.style.display =\n",
              "          google.colab.kernel.accessAllowed ? 'block' : 'none';\n",
              "\n",
              "        async function convertToInteractive(key) {\n",
              "          const element = document.querySelector('#df-a826fb9a-4cd6-4960-818d-3a9e12e4e88d');\n",
              "          const dataTable =\n",
              "            await google.colab.kernel.invokeFunction('convertToInteractive',\n",
              "                                                     [key], {});\n",
              "          if (!dataTable) return;\n",
              "\n",
              "          const docLinkHtml = 'Like what you see? Visit the ' +\n",
              "            '<a target=\"_blank\" href=https://colab.research.google.com/notebooks/data_table.ipynb>data table notebook</a>'\n",
              "            + ' to learn more about interactive tables.';\n",
              "          element.innerHTML = '';\n",
              "          dataTable['output_type'] = 'display_data';\n",
              "          await google.colab.output.renderOutput(dataTable, element);\n",
              "          const docLink = document.createElement('div');\n",
              "          docLink.innerHTML = docLinkHtml;\n",
              "          element.appendChild(docLink);\n",
              "        }\n",
              "      </script>\n",
              "    </div>\n",
              "  </div>\n",
              "  "
            ]
          },
          "metadata": {},
          "execution_count": 209
        }
      ]
    },
    {
      "cell_type": "code",
      "source": [
        "#Plotting a heatmap to show the correlations of the other factors \n",
        "\n",
        "sns.heatmap(FinanceTest.corr(),annot=True)\n",
        "plt.show()\n"
      ],
      "metadata": {
        "colab": {
          "base_uri": "https://localhost:8080/",
          "height": 371
        },
        "id": "pwR6gZ_L1mUR",
        "outputId": "eb3b1efb-b162-4a96-e3c7-1261997ec94e"
      },
      "execution_count": 210,
      "outputs": [
        {
          "output_type": "display_data",
          "data": {
            "text/plain": [
              "<Figure size 432x288 with 2 Axes>"
            ],
            "image/png": "[encoded data removed]"
          },
          "metadata": {
            "needs_background": "light"
          }
        }
      ]
    },
    {
      "cell_type": "markdown",
      "source": [
        "###### Having a bank account has a strong correlation with an individuals level of education. Individuals with primary school as the highest levels of education recored higher values. \n",
        "##### This is rather ambiguos as it is expected that individuals who proceed with education pas high school would have more bank accounts.\n",
        "##### Having a bank account is weakly correlated to the job type. This could be as a result of most correspondents having been self employed.\n",
        "##### The number of Individuals with access to cell phones had a strong correlation with owning a bank account. This is expected however. \n"
      ],
      "metadata": {
        "id": "bfhUCORz5SqA"
      }
    },
    {
      "cell_type": "markdown",
      "source": [
        "#### Correlations of other demographical factors can be observed from the heatmap above."
      ],
      "metadata": {
        "id": "-fmN2kdz7kYF"
      }
    },
    {
      "cell_type": "markdown",
      "source": [
        "##8. Challenging the solution"
      ],
      "metadata": {
        "id": "B4si0I0g1UPd"
      }
    },
    {
      "cell_type": "markdown",
      "source": [
        "###### The company should consider other demographical factors to get close to real results. \n",
        "\n"
      ],
      "metadata": {
        "id": "jhW01QOm2-8b"
      }
    },
    {
      "cell_type": "markdown",
      "source": [
        "##9. Follow up questions\n",
        "##### We had the right data though it could have been well if the geographical location were well covered; it is observed that the study was biased as the area mostlyl targeted while collecting the data was Rural areas."
      ],
      "metadata": {
        "id": "YDherXOY0l5x"
      }
    }
  ]
}